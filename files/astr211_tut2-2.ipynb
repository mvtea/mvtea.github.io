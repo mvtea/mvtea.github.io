{
 "cells": [
  {
   "cell_type": "markdown",
   "metadata": {},
   "source": [
    "# <ins>Tutorial 2.2: Functions</ins>\n",
    "*ASTR 211: Observational Astronomy, Spring 2021* \\\n",
    "*Written by Mason V. Tea*"
   ]
  },
  {
   "cell_type": "markdown",
   "metadata": {},
   "source": [
    "There's a lot that can be said about functions but, given that I myself am not an expert when it comes to the more advanced features, I don't think I'm qualified to teach all the bells and whistles. That being said, this will be a pretty basic overview of this very useful feature of Python.\n",
    "\n",
    "In short, functions work just like any mathematical function: they take in a specified input, do something, and return a specified output. Unlike in math, however, functions can work with more than just numbers, or with no input at all.\n",
    "\n",
    "## Syntax\n",
    "\n",
    "Take this function for example:"
   ]
  },
  {
   "cell_type": "code",
   "execution_count": 3,
   "metadata": {},
   "outputs": [],
   "source": [
    "def Howdy():\n",
    "    print(\"Howdy\")"
   ]
  },
  {
   "cell_type": "markdown",
   "metadata": {},
   "source": [
    "First, let's talk syntax. Like the conditionals and loops we talked about in the last tutorial, functions use whitespace to tell Python what they're made of. So, anything indented under the function definition is part of the function.\n",
    "\n",
    "The _function definition_ is the line at the top, which always looks something like \n",
    "`def <name>(<input(s)>):`.\n",
    "- The _def_ stands for definition (of course)\n",
    "- The name can be anything you want it to be; best practices are similar to the ones for variables, though typically it's good to capitalize function names so you don't mix them up with variables\n",
    "- The inputs are variable names, which will be replaced with real numbers/strings/lists/etc. when you call the function\n",
    "\n",
    "Now, let's call our `Howdy()` function:"
   ]
  },
  {
   "cell_type": "code",
   "execution_count": 4,
   "metadata": {},
   "outputs": [
    {
     "name": "stdout",
     "output_type": "stream",
     "text": [
      "Howdy\n"
     ]
    }
   ],
   "source": [
    "Howdy()"
   ]
  },
  {
   "cell_type": "markdown",
   "metadata": {},
   "source": [
    "All it does is print \"Howdy\", so it doesn't need any input. It also technically has no output -- it performs a task (printing), but it doesn't return a value. That being said, we can just call this function in our code without assigning it to a variable... because, if we did, what would that variable's value be? \n",
    "\n",
    "Functions are mainly useful for tasks you repeat a lot, ones you don't want to write out every time you want to use it. If we were printing \"Howdy\" a bunch in our code for some reason, it might be easier to write this `Howdy()` function than to type `print(\"Howdy\")` every time. However, it's typically more complex tasks that go into functions; for example, most of the ~30 functions I've written for my astronomy research have somewhere between 50 and 200 lines of code in them.\n",
    "\n",
    "## Input\n",
    "\n",
    "Let's take a look at how input works. If we wanted to print a \"Howdy\" directed at the user when they provide their name, we could write"
   ]
  },
  {
   "cell_type": "code",
   "execution_count": 7,
   "metadata": {},
   "outputs": [
    {
     "name": "stdout",
     "output_type": "stream",
     "text": [
      "What's your name, pardner? Mason\n",
      "Howdy Mason\n"
     ]
    }
   ],
   "source": [
    "def Howdy(name):\n",
    "    print(\"Howdy {0}\".format(name))\n",
    "\n",
    "myname = input(\"What's your name, pardner? \")\n",
    "    \n",
    "Howdy(myname)"
   ]
  },
  {
   "cell_type": "markdown",
   "metadata": {},
   "source": [
    "So, the function takes the name as an input and is able to utilize it in the body of the function. Great. One interesting thing to notice is that unlike the rest of the code, which it reads line-by-line, Python reads functions _first_. So, you can declare your functions at the beginning or end or middle of your code -- Python will have already added them to it's list of capabilities at the moment the code is run."
   ]
  },
  {
   "cell_type": "code",
   "execution_count": 8,
   "metadata": {},
   "outputs": [
    {
     "name": "stdout",
     "output_type": "stream",
     "text": [
      "What's your name, pardner? Mason\n",
      "Howdy Mason\n"
     ]
    }
   ],
   "source": [
    "myname = input(\"What's your name, pardner? \")\n",
    "    \n",
    "Howdy(myname)\n",
    "\n",
    "def Howdy(name):\n",
    "    print(\"Howdy {0}\".format(name))"
   ]
  },
  {
   "cell_type": "markdown",
   "metadata": {},
   "source": [
    "What if we want to pass our function multiple values at once? Easy -- separate them with commas. Let's edit `Howdy()` so that it prints our string a set number of times:"
   ]
  },
  {
   "cell_type": "code",
   "execution_count": 9,
   "metadata": {},
   "outputs": [
    {
     "name": "stdout",
     "output_type": "stream",
     "text": [
      "Howdy Mason\n",
      "Howdy Mason\n",
      "Howdy Mason\n"
     ]
    }
   ],
   "source": [
    "def Howdy(name,n):\n",
    "    for x in range(n): # List of length n\n",
    "        print(\"Howdy {0}\".format(name))\n",
    "        \n",
    "Howdy(\"Mason\",3)"
   ]
  },
  {
   "cell_type": "markdown",
   "metadata": {},
   "source": [
    "Something important to note is the distinction between _local_ and _global variables_. Variables declared inside a function, for example, are what are known as local variables. This means that they are _local_ to that function, and cannot be used elsewhere in your code. Global variables, on the other hand, are like those declared in any other part of your code, which can be used anywhere (including in functions). Here's an example:"
   ]
  },
  {
   "cell_type": "code",
   "execution_count": 12,
   "metadata": {},
   "outputs": [
    {
     "name": "stdout",
     "output_type": "stream",
     "text": [
      "6\n",
      "13\n"
     ]
    },
    {
     "ename": "NameError",
     "evalue": "name 'c' is not defined",
     "output_type": "error",
     "traceback": [
      "\u001b[0;31m---------------------------------------------------------------------------\u001b[0m",
      "\u001b[0;31mNameError\u001b[0m                                 Traceback (most recent call last)",
      "\u001b[0;32m<ipython-input-12-04e18ca81643>\u001b[0m in \u001b[0;36m<module>\u001b[0;34m\u001b[0m\n\u001b[1;32m      7\u001b[0m \u001b[0mprint\u001b[0m\u001b[0;34m(\u001b[0m\u001b[0mx\u001b[0m\u001b[0;34m)\u001b[0m         \u001b[0;31m# Fine\u001b[0m\u001b[0;34m\u001b[0m\u001b[0;34m\u001b[0m\u001b[0m\n\u001b[1;32m      8\u001b[0m \u001b[0mprint\u001b[0m\u001b[0;34m(\u001b[0m\u001b[0my\u001b[0m\u001b[0;34m)\u001b[0m         \u001b[0;31m# Fine\u001b[0m\u001b[0;34m\u001b[0m\u001b[0;34m\u001b[0m\u001b[0m\n\u001b[0;32m----> 9\u001b[0;31m \u001b[0mprint\u001b[0m\u001b[0;34m(\u001b[0m\u001b[0mc\u001b[0m\u001b[0;34m)\u001b[0m         \u001b[0;31m# Error\u001b[0m\u001b[0;34m\u001b[0m\u001b[0;34m\u001b[0m\u001b[0m\n\u001b[0m",
      "\u001b[0;31mNameError\u001b[0m: name 'c' is not defined"
     ]
    }
   ],
   "source": [
    "x = 6            # Global\n",
    "y = x + 7        # Global\n",
    "\n",
    "def Funct(a,b):\n",
    "    c = 6       # Local to Funct()\n",
    "\n",
    "print(x)         # Fine\n",
    "print(y)         # Fine\n",
    "print(c)         # Error"
   ]
  },
  {
   "cell_type": "markdown",
   "metadata": {},
   "source": [
    "### Optional/preassigned input\n",
    "\n",
    "Sometimes, you might want a default value for an input variable so you don't have to type it nearly every time. In order to do this, you just assign that variable a value _in the function definition_ like so:"
   ]
  },
  {
   "cell_type": "code",
   "execution_count": 33,
   "metadata": {},
   "outputs": [
    {
     "name": "stdout",
     "output_type": "stream",
     "text": [
      "Howdy Mason\n",
      "Howdy Mason\n",
      "Howdy Mason\n"
     ]
    }
   ],
   "source": [
    "def Howdy(name, n=3):\n",
    "    for x in range(n):\n",
    "        print(\"Howdy {0}\".format(name))\n",
    "        \n",
    "Howdy(\"Mason\")"
   ]
  },
  {
   "cell_type": "markdown",
   "metadata": {},
   "source": [
    "Because I've assigned `n` a default value of 3, I can call the function without mentioning it explicitly. If I want to use a value other than 3, however, I can assign it explicitly in the function call:"
   ]
  },
  {
   "cell_type": "code",
   "execution_count": 34,
   "metadata": {},
   "outputs": [
    {
     "name": "stdout",
     "output_type": "stream",
     "text": [
      "Howdy Mason\n",
      "Howdy Mason\n",
      "Howdy Mason\n",
      "Howdy Mason\n",
      "Howdy Mason\n"
     ]
    }
   ],
   "source": [
    "Howdy(\"Mason\",n=5)"
   ]
  },
  {
   "cell_type": "markdown",
   "metadata": {},
   "source": [
    "## Output\n",
    "\n",
    "Functions are the most useful when they're performing a long calculation/task and giving us a result we can use. Switching gears from the cowboy function, let's say we want to calculate the Eddington luminosity of a 2.5 solar mass black hole, which is governed by the equation\n",
    "\n",
    "$$L_{Edd} = 1.26\\times10^{38} \\Bigg(\\frac{M}{M_\\odot}\\Bigg)\\text{ erg s$^{-1}$}$$\n",
    "\n",
    "(For context, this is the theoretical maximum luminosity for an accreting compact object.) Here, our only input should be the mass, and our only output should be the Eddington luminosity. Let's write a function for it:"
   ]
  },
  {
   "cell_type": "code",
   "execution_count": 17,
   "metadata": {},
   "outputs": [],
   "source": [
    "def L_Edd(mass):\n",
    "    return 1.26E38 * mass"
   ]
  },
  {
   "cell_type": "markdown",
   "metadata": {},
   "source": [
    "So, you can see that we use the keyword `return` to, well, return a value from a function. We can either print the result, or save it to a variable:"
   ]
  },
  {
   "cell_type": "code",
   "execution_count": 19,
   "metadata": {},
   "outputs": [
    {
     "name": "stdout",
     "output_type": "stream",
     "text": [
      "3.15e+38\n",
      "3.15e+38\n"
     ]
    }
   ],
   "source": [
    "print(L_Edd(2.5))\n",
    "\n",
    "lum = L_Edd(2.5)\n",
    "print(lum)"
   ]
  },
  {
   "cell_type": "markdown",
   "metadata": {},
   "source": [
    "Want to return multiple values? Again, we just need to add commas. Let's edit `L_Edd()` to return the units along with the value:"
   ]
  },
  {
   "cell_type": "code",
   "execution_count": 22,
   "metadata": {},
   "outputs": [
    {
     "name": "stdout",
     "output_type": "stream",
     "text": [
      "(3.15e+38, 'erg/s')\n"
     ]
    }
   ],
   "source": [
    "def L_Edd(mass):\n",
    "    return 1.26E38*mass, 'erg/s'\n",
    "\n",
    "print(L_Edd(2.5))"
   ]
  },
  {
   "cell_type": "markdown",
   "metadata": {},
   "source": [
    "Notice that what this function now returns is a _tuple_ (think of it as a list for now, because that's really all it is). Now, if we want to assign these values to variables, we have to separate them somehow. One way to do this is to assign them to variables by their index in the tuple, as we've seen before:"
   ]
  },
  {
   "cell_type": "code",
   "execution_count": 23,
   "metadata": {},
   "outputs": [
    {
     "name": "stdout",
     "output_type": "stream",
     "text": [
      "3.15e+38 erg/s\n"
     ]
    }
   ],
   "source": [
    "lum = L_Edd(2.5)[0]\n",
    "unit = L_Edd(2.5)[1]\n",
    "\n",
    "print(lum, unit)"
   ]
  },
  {
   "cell_type": "markdown",
   "metadata": {},
   "source": [
    "Alternatively, you can assign multiple variables at once, or _unpack_ the tuple:"
   ]
  },
  {
   "cell_type": "code",
   "execution_count": 25,
   "metadata": {},
   "outputs": [
    {
     "name": "stdout",
     "output_type": "stream",
     "text": [
      "3.15e+38 erg/s\n"
     ]
    }
   ],
   "source": [
    "lum, unit = L_Edd(2.5)\n",
    "print(lum,unit)"
   ]
  },
  {
   "cell_type": "markdown",
   "metadata": {},
   "source": [
    "(This is a trick I use often to assign mulitple variables on the same line.)\n",
    "\n",
    "## Libraries\n",
    "\n",
    "Now, you may have noticed that you've seen functions before (or, at least, I've called things functions before). All of the tools from the `math` library, the `numpy` library, and every other library we'll use going forward are just functions saved in another program. Each one comes with Python scripts containing tons of functions, waiting to be referenced in your code. That's why you have to import them explicitly -- so Python knows where to look. \n",
    "\n",
    "What's nice about this is that you can make your own libraries! Creating your own ever-growing repository of functions that you can simply import whenever you need them is a great thing to start early in your scientific career. In fact, I suggest trying to use functions for any special calculations you use regularly -- the Planck function, distance modulus, etc. -- and keeping them in a Python file of your own.\n",
    "\n",
    "Just to demonstrate, I've put a function `meaning_of_life()` in the file `mylibrary.py` and placed it in the same directory as this .ipynb file. Because I've done this, I can use the function by importing it:"
   ]
  },
  {
   "cell_type": "code",
   "execution_count": 27,
   "metadata": {},
   "outputs": [
    {
     "name": "stdout",
     "output_type": "stream",
     "text": [
      "42\n"
     ]
    }
   ],
   "source": [
    "from mylibrary import meaning_of_life\n",
    "\n",
    "answer = meaning_of_life()\n",
    "print(answer)"
   ]
  },
  {
   "cell_type": "markdown",
   "metadata": {},
   "source": [
    "If I had many functions in this file, I could import them all like this:"
   ]
  },
  {
   "cell_type": "code",
   "execution_count": 30,
   "metadata": {},
   "outputs": [
    {
     "name": "stdout",
     "output_type": "stream",
     "text": [
      "42\n"
     ]
    }
   ],
   "source": [
    "import mylibrary\n",
    "print(mylibrary.meaning_of_life())"
   ]
  },
  {
   "cell_type": "markdown",
   "metadata": {},
   "source": [
    "Or like this:"
   ]
  },
  {
   "cell_type": "code",
   "execution_count": 31,
   "metadata": {},
   "outputs": [
    {
     "name": "stdout",
     "output_type": "stream",
     "text": [
      "42\n"
     ]
    }
   ],
   "source": [
    "from mylibrary import *\n",
    "print(mylibrary.meaning_of_life())"
   ]
  },
  {
   "cell_type": "markdown",
   "metadata": {},
   "source": [
    "I can also _alias_ the libarary, as we've seen before:"
   ]
  },
  {
   "cell_type": "code",
   "execution_count": 32,
   "metadata": {},
   "outputs": [
    {
     "name": "stdout",
     "output_type": "stream",
     "text": [
      "42\n"
     ]
    }
   ],
   "source": [
    "import mylibrary as ml\n",
    "print(ml.meaning_of_life())"
   ]
  },
  {
   "cell_type": "markdown",
   "metadata": {},
   "source": [
    "## A note on commenting\n",
    "\n",
    "When writing code in general, I'll reiterate that things should be well-commented. In the case where you're putting large chunks of code into functions that you may use much later (e.g. in a library), it's *super* important that the code is described well, so that you don't forget what you did.\n",
    "\n",
    "In addition to in-line comments, it's always good to write a _\"docstring\"_ as it's called in the computer science world. I'm nothing close to a computer scientist, however, so I may be misusing the word. In short, it's a comment that goes with your function describing what it does, what the inputs and outputs are, and any dependencies (i.e. libraries/other functions it needs to run properly).\n",
    "\n",
    "For example, if I wanted to write a docstring for our final iteration of `Howdy()`, it might look something like this:"
   ]
  },
  {
   "cell_type": "code",
   "execution_count": 1,
   "metadata": {},
   "outputs": [],
   "source": [
    "'''\n",
    "Function: Howdy\n",
    "Description: Prints \"Howdy, <name>\" a specified number of times.\n",
    "\n",
    "Input: name -- Name of the user; string\n",
    "       n    -- Number of times to print the prompt; default is 3; string\n",
    "       \n",
    "Output: None\n",
    "'''\n",
    "\n",
    "def Howdy(name, n=3):\n",
    "    for x in range(n):\n",
    "        print(\"Howdy {0}\".format(name))"
   ]
  },
  {
   "cell_type": "markdown",
   "metadata": {},
   "source": [
    "Of course, it doesn't have to have this format. However you think best communicates the purpose and use of your function."
   ]
  },
  {
   "cell_type": "code",
   "execution_count": null,
   "metadata": {},
   "outputs": [],
   "source": []
  }
 ],
 "metadata": {
  "kernelspec": {
   "display_name": "Python 3",
   "language": "python",
   "name": "python3"
  },
  "language_info": {
   "codemirror_mode": {
    "name": "ipython",
    "version": 3
   },
   "file_extension": ".py",
   "mimetype": "text/x-python",
   "name": "python",
   "nbconvert_exporter": "python",
   "pygments_lexer": "ipython3",
   "version": "3.7.3"
  }
 },
 "nbformat": 4,
 "nbformat_minor": 2
}
