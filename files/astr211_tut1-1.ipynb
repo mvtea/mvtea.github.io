{
 "cells": [
  {
   "cell_type": "markdown",
   "metadata": {},
   "source": [
    "# <ins>Tutorial #1: Python Basics</ins>\n",
    "*ASTR 211: Observational Astronomy, Spring 2021* \\\n",
    "*Written by Mason V. Tea*"
   ]
  },
  {
   "cell_type": "markdown",
   "metadata": {},
   "source": [
    "Welcome to this introduction to programming with Python. If you have little to no experience with coding, that's totally fine! This is the place for you to start. If you already know some Python, I ask you to skim this document but, if there's nothing here you don't already know, you're welcome to move on. \n",
    "\n",
    "This notebook is going to cover all the basic principles of programming with Python 3, your average astronomer's language of choice. It's a high-level scripting language, meaning it's pretty easy to read and is mostly used for doing math or other automated tasks. Another thing to note about Python is that it doesn't need to be compiled before its run like some other languages, meaning that when you run a Python program, the computer reads it top to bottom, line by line, until it hits the end of the program or an error.\n",
    "\n",
    "It's one of, if not *the* best language for beginners, so don't worry if this document looks daunting!"
   ]
  },
  {
   "cell_type": "markdown",
   "metadata": {},
   "source": [
    "***\n",
    "## Comments\n",
    "\n",
    "First off, the Markdown cells in Jupyter are nice, but you may want a way to take notes on your code when you're not using Jupyter. That's where *comments* come in. They're pieces of the code demarcated by certain symbols(hashtags and triple quotes) that tell Python not to read them as code. For example, a single-line comment looks like this:"
   ]
  },
  {
   "cell_type": "code",
   "execution_count": 29,
   "metadata": {},
   "outputs": [],
   "source": [
    "# Nothing will happen if this code is run!"
   ]
  },
  {
   "cell_type": "markdown",
   "metadata": {},
   "source": [
    "If you want to write multiple lines of comments, however, you can either create multiple single-line comments, or a multi-line comment, like this:"
   ]
  },
  {
   "cell_type": "code",
   "execution_count": 30,
   "metadata": {},
   "outputs": [
    {
     "data": {
      "text/plain": [
       "\"\\nHere's a multiple line\\ncomment, contained within the tick\\nmarks, which let's me go as long as I want!\\n(Python won't read this as code, either!)\\n\""
      ]
     },
     "execution_count": 30,
     "metadata": {},
     "output_type": "execute_result"
    }
   ],
   "source": [
    "# This is a series\n",
    "# of 3 single line comments\n",
    "# which get a bit tiring...\n",
    "\n",
    "'''\n",
    "Here's a multiple line\n",
    "comment, contained within the tick\n",
    "marks, which lets me go as long as I want!\n",
    "(Python won't read this as code, either!)\n",
    "'''"
   ]
  },
  {
   "cell_type": "markdown",
   "metadata": {},
   "source": [
    "Remember to *always comment your code* so you (and your instructors) can always see what its supposed to be doing!"
   ]
  },
  {
   "cell_type": "markdown",
   "metadata": {},
   "source": [
    "***\n",
    "## Basic arithmetic\n",
    "\n",
    "Python is great at math. For example, it can add, subtract, multiply and divide:"
   ]
  },
  {
   "cell_type": "code",
   "execution_count": 2,
   "metadata": {},
   "outputs": [
    {
     "data": {
      "text/plain": [
       "4"
      ]
     },
     "execution_count": 2,
     "metadata": {},
     "output_type": "execute_result"
    }
   ],
   "source": [
    "2 + 2"
   ]
  },
  {
   "cell_type": "code",
   "execution_count": 8,
   "metadata": {},
   "outputs": [
    {
     "data": {
      "text/plain": [
       "9"
      ]
     },
     "execution_count": 8,
     "metadata": {},
     "output_type": "execute_result"
    }
   ],
   "source": [
    "3 * 3"
   ]
  },
  {
   "cell_type": "code",
   "execution_count": 9,
   "metadata": {},
   "outputs": [
    {
     "data": {
      "text/plain": [
       "0"
      ]
     },
     "execution_count": 9,
     "metadata": {},
     "output_type": "execute_result"
    }
   ],
   "source": [
    "4 - 4"
   ]
  },
  {
   "cell_type": "code",
   "execution_count": 12,
   "metadata": {},
   "outputs": [
    {
     "data": {
      "text/plain": [
       "1.0"
      ]
     },
     "execution_count": 12,
     "metadata": {},
     "output_type": "execute_result"
    }
   ],
   "source": [
    "5 / 5"
   ]
  },
  {
   "cell_type": "markdown",
   "metadata": {},
   "source": [
    "It can exponentiate:"
   ]
  },
  {
   "cell_type": "code",
   "execution_count": 22,
   "metadata": {},
   "outputs": [
    {
     "data": {
      "text/plain": [
       "9"
      ]
     },
     "execution_count": 22,
     "metadata": {},
     "output_type": "execute_result"
    }
   ],
   "source": [
    "3**2"
   ]
  },
  {
   "cell_type": "markdown",
   "metadata": {},
   "source": [
    "And do scientific notation:"
   ]
  },
  {
   "cell_type": "code",
   "execution_count": 4,
   "metadata": {},
   "outputs": [
    {
     "data": {
      "text/plain": [
       "5000000.0"
      ]
     },
     "execution_count": 4,
     "metadata": {},
     "output_type": "execute_result"
    }
   ],
   "source": [
    "5E6"
   ]
  },
  {
   "cell_type": "markdown",
   "metadata": {},
   "source": [
    "It can also perform modular arithmetic with the symbol `%`. This kind of calculation is like dividing two numbers and only keeping the remainder:"
   ]
  },
  {
   "cell_type": "code",
   "execution_count": 14,
   "metadata": {},
   "outputs": [
    {
     "data": {
      "text/plain": [
       "0"
      ]
     },
     "execution_count": 14,
     "metadata": {},
     "output_type": "execute_result"
    }
   ],
   "source": [
    "10 % 5 # Zero, because 5 goes into 10 exactly twice"
   ]
  },
  {
   "cell_type": "code",
   "execution_count": 16,
   "metadata": {},
   "outputs": [
    {
     "data": {
      "text/plain": [
       "4"
      ]
     },
     "execution_count": 16,
     "metadata": {},
     "output_type": "execute_result"
    }
   ],
   "source": [
    "10 % 6 # Four, because 6 goes into 10 only once, leaving 4 remaining"
   ]
  },
  {
   "cell_type": "markdown",
   "metadata": {},
   "source": [
    "It can do lots of these things at the same time, following PEMDAS:"
   ]
  },
  {
   "cell_type": "code",
   "execution_count": 1,
   "metadata": {},
   "outputs": [
    {
     "data": {
      "text/plain": [
       "54.822222222222216"
      ]
     },
     "execution_count": 1,
     "metadata": {},
     "output_type": "execute_result"
    }
   ],
   "source": [
    "1 + (6 * 9.1) - (7 / 9)"
   ]
  },
  {
   "cell_type": "markdown",
   "metadata": {},
   "source": [
    "Python reads out a lot of decimal places by default. If you only want a few, you can use the `round` function:"
   ]
  },
  {
   "cell_type": "code",
   "execution_count": 3,
   "metadata": {},
   "outputs": [
    {
     "data": {
      "text/plain": [
       "54.82"
      ]
     },
     "execution_count": 3,
     "metadata": {},
     "output_type": "execute_result"
    }
   ],
   "source": [
    "round(1 + (6 * 9.1) - (7 / 9), 2) # Rounds to 2 decimal places"
   ]
  },
  {
   "cell_type": "markdown",
   "metadata": {},
   "source": [
    "If you want to use special functions (trigonometry, logarithms, etc), you'll have to import a *library* that contains those functions. Libraries are just that -- collections of functions that you can Python's built-in library for this purpose is aptly named `math`. To import the library, simply add the line `import math` to your code."
   ]
  },
  {
   "cell_type": "code",
   "execution_count": 2,
   "metadata": {},
   "outputs": [],
   "source": [
    "import math"
   ]
  },
  {
   "cell_type": "markdown",
   "metadata": {},
   "source": [
    "It's best practice to import your libraries at the beginning of your file. Again, Python reads and runs code line-by-line until it gets an error or finishes running the program. In the same vein, if you use a function in the `math` library before your code knows you've imported it, Python won't know what you're talking about when you reference it. \n",
    "\n",
    "In order to use a function from the `math` library (or any library), we use what's called _dot notation_, wherein you call the function you want as `<library>.<function>`. For example, if I wanted to use the log-base-10 function in the `math` library, I would write"
   ]
  },
  {
   "cell_type": "code",
   "execution_count": 3,
   "metadata": {},
   "outputs": [
    {
     "data": {
      "text/plain": [
       "0.6989700043360189"
      ]
     },
     "execution_count": 3,
     "metadata": {},
     "output_type": "execute_result"
    }
   ],
   "source": [
    "math.log10(5)"
   ]
  },
  {
   "cell_type": "markdown",
   "metadata": {},
   "source": [
    "The `math` library has other useful functions as well:"
   ]
  },
  {
   "cell_type": "code",
   "execution_count": 6,
   "metadata": {},
   "outputs": [
    {
     "name": "stdout",
     "output_type": "stream",
     "text": [
      "-0.4480736161291701 0.9969486348916096\n"
     ]
    }
   ],
   "source": [
    "print(math.cos(90), math.log(2.71))"
   ]
  },
  {
   "cell_type": "markdown",
   "metadata": {},
   "source": [
    "***\n",
    "## Printing\n",
    "\n",
    "Say you want to see the result of one of the calculations above. Jupyter is cool in that it'll just run the expressions above, no sweat. However, there are situations where you may want to tell Python explicitly to show you the answer (i.e. in code written with a text editor and executed in the terminal). For that, we use a *print statement* to print to the terminal:"
   ]
  },
  {
   "cell_type": "code",
   "execution_count": 1,
   "metadata": {},
   "outputs": [
    {
     "name": "stdout",
     "output_type": "stream",
     "text": [
      "-5.0\n"
     ]
    }
   ],
   "source": [
    "print(1 + (2 * 3) / (4 - 5))"
   ]
  },
  {
   "cell_type": "markdown",
   "metadata": {},
   "source": [
    "Notice that the expression is inside parentheses. If you're using an older version of Python, simply typing `print` before the expression would suffice. In Python 3.x, however, you need these parentheses!\n",
    "\n",
    "If you want to print multiple things at a time, that works too! Just separate them with a comma:"
   ]
  },
  {
   "cell_type": "code",
   "execution_count": 21,
   "metadata": {},
   "outputs": [
    {
     "name": "stdout",
     "output_type": "stream",
     "text": [
      "Howdy! 1232 5.6\n"
     ]
    }
   ],
   "source": [
    "print('Howdy!', 1232, 5.6)"
   ]
  },
  {
   "cell_type": "markdown",
   "metadata": {},
   "source": [
    "***\n",
    "## Data types\n",
    "\n",
    "There a few main data types to start with. You've seen the first two in action:\n",
    "\n",
    "### Integer (int)\n",
    "\n",
    "Integers are just whole numbers -- 1, 2 10101, 69, etc.\n",
    "\n",
    "### Float\n",
    "\n",
    "A.K.A. \"floating-point numbers,\" floats are numbers with decimals -- 1.6, 4.20, 80.0000085, etc.\n",
    "\n",
    "### String (str)\n",
    "\n",
    "Strings are, well, strings of characters, which can include numbers and symbols. They're distinguished from other pieces of code by being surrounded by single or double quotes -- \"Hi!\", \"ab6f8jb-.-.\", etc.\n",
    "\n",
    "We've seen strings in the print statements above. Strings and the other data types cannot be used together in artithmetic, but there are some exceptions. For example, strings can be multiplied by integers to repeat themselves:"
   ]
  },
  {
   "cell_type": "code",
   "execution_count": 7,
   "metadata": {},
   "outputs": [
    {
     "name": "stdout",
     "output_type": "stream",
     "text": [
      "abcdeabcdeabcdeabcdeabcde\n"
     ]
    }
   ],
   "source": [
    "print('abcde' * 5) # This should print 'abcde' 5 times"
   ]
  },
  {
   "cell_type": "markdown",
   "metadata": {},
   "source": [
    "Strings can also be added together in a process called *string concatenation*:"
   ]
  },
  {
   "cell_type": "code",
   "execution_count": 6,
   "metadata": {},
   "outputs": [
    {
     "name": "stdout",
     "output_type": "stream",
     "text": [
      "Hello world!\n"
     ]
    }
   ],
   "source": [
    "print('Hello' + ' ' + 'world!')"
   ]
  },
  {
   "cell_type": "markdown",
   "metadata": {},
   "source": [
    "There are some useful characters you can add to your strings that will actually alter the way they look. Because there isn't really a \"new line\" button, and adding extra spaces to your strings for tabs is annoying, you can use `\\t` and `\\n` in those cases, respectively:"
   ]
  },
  {
   "cell_type": "code",
   "execution_count": 65,
   "metadata": {},
   "outputs": [
    {
     "name": "stdout",
     "output_type": "stream",
     "text": [
      "a\n",
      "b\n",
      "c\n"
     ]
    }
   ],
   "source": [
    "print('a\\nb\\nc') # Should print a, b, and c on different lines"
   ]
  },
  {
   "cell_type": "code",
   "execution_count": 64,
   "metadata": {},
   "outputs": [
    {
     "name": "stdout",
     "output_type": "stream",
     "text": [
      "a\tb\tc\n"
     ]
    }
   ],
   "source": [
    "print('a\\tb\\tc') #Should print a, b and c with tab space in between them"
   ]
  },
  {
   "cell_type": "markdown",
   "metadata": {},
   "source": [
    "(There's plenty more we can do with strings, which we'll get to in the next tutorial.)"
   ]
  },
  {
   "cell_type": "markdown",
   "metadata": {},
   "source": [
    "\n",
    "### Lists\n",
    "\n",
    "Another very important data type is the list, which allows you to store multiple values in one variable. Lists in Python can contain values of all the same data type or different data types. "
   ]
  },
  {
   "cell_type": "code",
   "execution_count": 1,
   "metadata": {},
   "outputs": [
    {
     "data": {
      "text/plain": [
       "[1, 2, 3, 4, 5]"
      ]
     },
     "execution_count": 1,
     "metadata": {},
     "output_type": "execute_result"
    }
   ],
   "source": [
    "print([1,2,3,4,5]) # All integers"
   ]
  },
  {
   "cell_type": "code",
   "execution_count": 3,
   "metadata": {},
   "outputs": [
    {
     "data": {
      "text/plain": [
       "[1, 'a', 'b', 2]"
      ]
     },
     "execution_count": 3,
     "metadata": {},
     "output_type": "execute_result"
    }
   ],
   "source": [
    "print([1,'a','b',2]) # Some integers, some strings"
   ]
  },
  {
   "cell_type": "markdown",
   "metadata": {},
   "source": [
    "And, yes, you can have lists of lists:"
   ]
  },
  {
   "cell_type": "code",
   "execution_count": 5,
   "metadata": {},
   "outputs": [
    {
     "data": {
      "text/plain": [
       "[[1, 2, 3], [5, 6, 7], [1, 4, 5]]"
      ]
     },
     "execution_count": 5,
     "metadata": {},
     "output_type": "execute_result"
    }
   ],
   "source": [
    "print([[1,2,3], [5,6,7], [1,4,5]])"
   ]
  },
  {
   "cell_type": "markdown",
   "metadata": {},
   "source": [
    "Just like strings, you cannot subtract or divide lists from one another, but you can add them together and multiply them by integers:"
   ]
  },
  {
   "cell_type": "code",
   "execution_count": 8,
   "metadata": {},
   "outputs": [
    {
     "data": {
      "text/plain": [
       "[1, 2, 3, 4, 1, 2, 3, 4]"
      ]
     },
     "execution_count": 8,
     "metadata": {},
     "output_type": "execute_result"
    }
   ],
   "source": [
    "print([1,2,3,4] + [1,2,3,4])"
   ]
  },
  {
   "cell_type": "code",
   "execution_count": 9,
   "metadata": {},
   "outputs": [
    {
     "data": {
      "text/plain": [
       "[1, 2, 3, 4, 1, 2, 3, 4, 1, 2, 3, 4]"
      ]
     },
     "execution_count": 9,
     "metadata": {},
     "output_type": "execute_result"
    }
   ],
   "source": [
    "print([1,2,3,4]*3)"
   ]
  },
  {
   "cell_type": "markdown",
   "metadata": {},
   "source": [
    "We'll talk about both strings and lists in more depth in the next tutorial, including how to access the values inside them. For now, though, it's enough to know that they exist."
   ]
  },
  {
   "cell_type": "markdown",
   "metadata": {},
   "source": [
    "### Boolean (bool)\n",
    "\n",
    "Booleans can either be True or False, 1 or 0. *Note that boolean truth values are always capitalized!*\n",
    "\n",
    "You can probably come up with examples of boolean statements if you think about it. For example, the fact that \"two is equal to two\" is True, and \"three is equal to two\" is False. In Python, the equals sign is reserved for assigning variables, however, so boolean statements like this are written with a double-equals sign, `==`:"
   ]
  },
  {
   "cell_type": "code",
   "execution_count": 7,
   "metadata": {},
   "outputs": [
    {
     "name": "stdout",
     "output_type": "stream",
     "text": [
      "True\n"
     ]
    }
   ],
   "source": [
    "print(3 == 3) # Should be true"
   ]
  },
  {
   "cell_type": "code",
   "execution_count": 8,
   "metadata": {},
   "outputs": [
    {
     "name": "stdout",
     "output_type": "stream",
     "text": [
      "False\n"
     ]
    }
   ],
   "source": [
    "print(3 == 4) # Should be false"
   ]
  },
  {
   "cell_type": "markdown",
   "metadata": {},
   "source": [
    "The `==` symbol is called a *comparison operator*, and the others include \"not equal to\" (`!=`), \"less than\" (`<`), \"less than or equal to\" (`<=`), \"greater than\" (`>`), and \"greater than or equal to\" (`>=`):"
   ]
  },
  {
   "cell_type": "code",
   "execution_count": 9,
   "metadata": {},
   "outputs": [
    {
     "name": "stdout",
     "output_type": "stream",
     "text": [
      "False\n"
     ]
    }
   ],
   "source": [
    "print(6 > 7) # False"
   ]
  },
  {
   "cell_type": "code",
   "execution_count": 13,
   "metadata": {},
   "outputs": [
    {
     "name": "stdout",
     "output_type": "stream",
     "text": [
      "True\n"
     ]
    }
   ],
   "source": [
    "print(6 < 7) # True "
   ]
  },
  {
   "cell_type": "code",
   "execution_count": 11,
   "metadata": {},
   "outputs": [
    {
     "name": "stdout",
     "output_type": "stream",
     "text": [
      "True\n"
     ]
    }
   ],
   "source": [
    "print(7 >= 7) # True"
   ]
  },
  {
   "cell_type": "code",
   "execution_count": 12,
   "metadata": {},
   "outputs": [
    {
     "name": "stdout",
     "output_type": "stream",
     "text": [
      "False\n"
     ]
    }
   ],
   "source": [
    "print(7 != 7) # False"
   ]
  },
  {
   "cell_type": "markdown",
   "metadata": {},
   "source": [
    "These sorts of comparisons can be done between numbers, strings, and objects of different data types:"
   ]
  },
  {
   "cell_type": "code",
   "execution_count": 15,
   "metadata": {},
   "outputs": [
    {
     "name": "stdout",
     "output_type": "stream",
     "text": [
      "False\n"
     ]
    }
   ],
   "source": [
    "print('dog' == 'cat') # False"
   ]
  },
  {
   "cell_type": "code",
   "execution_count": 14,
   "metadata": {},
   "outputs": [
    {
     "name": "stdout",
     "output_type": "stream",
     "text": [
      "False\n"
     ]
    }
   ],
   "source": [
    "print('42' == 42) # False"
   ]
  },
  {
   "cell_type": "markdown",
   "metadata": {},
   "source": [
    "Notice the cell directly above this one. Despite the string version of 42 technically being the same number as 42, they aren't equal (but the comparison didn't raise an error). If you're unsure of what kind of data type something is, you can check it with the `type()` function, like so:"
   ]
  },
  {
   "cell_type": "code",
   "execution_count": 16,
   "metadata": {},
   "outputs": [
    {
     "name": "stdout",
     "output_type": "stream",
     "text": [
      "<class 'int'>\n"
     ]
    }
   ],
   "source": [
    "print(type(12)) # int"
   ]
  },
  {
   "cell_type": "markdown",
   "metadata": {},
   "source": [
    "If you wanted to make that previous statement true, however, you could convert one of the two values to be the same type as the other (which comes in handy really often). This is called *typecasting*:"
   ]
  },
  {
   "cell_type": "code",
   "execution_count": 32,
   "metadata": {},
   "outputs": [
    {
     "name": "stdout",
     "output_type": "stream",
     "text": [
      "True\n"
     ]
    }
   ],
   "source": [
    "print('42' == str(42)) # True, because I've converted the integer 42 into the string '42'"
   ]
  },
  {
   "cell_type": "code",
   "execution_count": 33,
   "metadata": {},
   "outputs": [
    {
     "name": "stdout",
     "output_type": "stream",
     "text": [
      "True\n"
     ]
    }
   ],
   "source": [
    "print(int('42') == 42) # True, because I've converted the string '42' into the integer 42"
   ]
  },
  {
   "cell_type": "markdown",
   "metadata": {},
   "source": [
    "You can also use this in boolean expressions:"
   ]
  },
  {
   "cell_type": "code",
   "execution_count": 17,
   "metadata": {},
   "outputs": [
    {
     "name": "stdout",
     "output_type": "stream",
     "text": [
      "True\n"
     ]
    }
   ],
   "source": [
    "print(42 == 42.0) # True; both the same value, but one has a decimal"
   ]
  },
  {
   "cell_type": "code",
   "execution_count": 8,
   "metadata": {},
   "outputs": [
    {
     "name": "stdout",
     "output_type": "stream",
     "text": [
      "False\n"
     ]
    }
   ],
   "source": [
    "print(type(42) == type(42.0)) # False; same value, but one's an int and the other is a float!"
   ]
  },
  {
   "cell_type": "markdown",
   "metadata": {},
   "source": [
    "Boolean expressions don't have to be \"this\" versus \"that,\" they can contain any number of truth statements, connected by `and` & `or` operators:"
   ]
  },
  {
   "cell_type": "code",
   "execution_count": 22,
   "metadata": {},
   "outputs": [
    {
     "name": "stdout",
     "output_type": "stream",
     "text": [
      "False\n"
     ]
    }
   ],
   "source": [
    "print((6 == 4) and (1 == 1)) # False, because one is true but not both"
   ]
  },
  {
   "cell_type": "code",
   "execution_count": 9,
   "metadata": {
    "scrolled": true
   },
   "outputs": [
    {
     "name": "stdout",
     "output_type": "stream",
     "text": [
      "False\n"
     ]
    }
   ],
   "source": [
    "print((2 == 3) or (4 == 5)) # False, because neither is true"
   ]
  },
  {
   "cell_type": "markdown",
   "metadata": {},
   "source": [
    "***\n",
    "## Variables\n",
    "\n",
    "So we know how to do math and stuff. But what if we want to hang onto the value of one of these expressions, and use it in a calculation later on? For this, we assign the value to a *variable*."
   ]
  },
  {
   "cell_type": "code",
   "execution_count": 19,
   "metadata": {},
   "outputs": [],
   "source": [
    "x = 85"
   ]
  },
  {
   "cell_type": "markdown",
   "metadata": {},
   "source": [
    "Now that `x` has been assigned the value 85, we can reference `x` in the future to get the value back:"
   ]
  },
  {
   "cell_type": "code",
   "execution_count": 20,
   "metadata": {},
   "outputs": [
    {
     "name": "stdout",
     "output_type": "stream",
     "text": [
      "85\n"
     ]
    }
   ],
   "source": [
    "print(x)"
   ]
  },
  {
   "cell_type": "markdown",
   "metadata": {},
   "source": [
    "Variables can have any name you want, really. It's best practice to have them be all lowercase, and they cannot start with a number, however. Also, they can not share the name of a *function* (which we'll get into more later), a boolean value (True or False), or any Python keywords like `and`/`or` or `print` (the ones we've seen so far). They also can't have special characters like !, ?, etc., but they can contain underscores.\n",
    "\n",
    "Now, suppose I'm done with the variable `x` from above, and I want to reuse the name \"x\" for a different calculation. That's fine, because Python allows us to *reassign* variables later in the program. When Python runs, it reads code top-to-bottom, so whatever the most recent value of `x` was, that's what it'll go with on the next line. For example,"
   ]
  },
  {
   "cell_type": "code",
   "execution_count": 17,
   "metadata": {},
   "outputs": [
    {
     "name": "stdout",
     "output_type": "stream",
     "text": [
      "1\n",
      "4\n"
     ]
    }
   ],
   "source": [
    "x = 1\n",
    "print(x) # This should print out 1\n",
    "\n",
    "x = 4\n",
    "print(x) # This should print out 4"
   ]
  },
  {
   "cell_type": "markdown",
   "metadata": {},
   "source": [
    "Note that, if you accidentally reassign a variable, you can't get the old value back!\n",
    "\n",
    "You can also save the result of any kind of expression to a variable:"
   ]
  },
  {
   "cell_type": "code",
   "execution_count": 19,
   "metadata": {},
   "outputs": [
    {
     "name": "stdout",
     "output_type": "stream",
     "text": [
      "3\n"
     ]
    }
   ],
   "source": [
    "y = 1 + 2\n",
    "print(y)"
   ]
  },
  {
   "cell_type": "code",
   "execution_count": 21,
   "metadata": {},
   "outputs": [
    {
     "name": "stdout",
     "output_type": "stream",
     "text": [
      "False\n"
     ]
    }
   ],
   "source": [
    "z = (12 + 6) == 18 and 16 == 1\n",
    "print(z)"
   ]
  },
  {
   "cell_type": "code",
   "execution_count": 24,
   "metadata": {},
   "outputs": [
    {
     "name": "stdout",
     "output_type": "stream",
     "text": [
      "Van Vleck Observatory at Wesleyan University\n"
     ]
    }
   ],
   "source": [
    "w = 'Van Vleck Observatory' + ' at Wesleyan University'\n",
    "print(w)"
   ]
  },
  {
   "cell_type": "markdown",
   "metadata": {},
   "source": [
    "And, of course, you can use variables in expressions (otherwise, how useful would they really be):"
   ]
  },
  {
   "cell_type": "code",
   "execution_count": 31,
   "metadata": {},
   "outputs": [
    {
     "name": "stdout",
     "output_type": "stream",
     "text": [
      "117\n"
     ]
    }
   ],
   "source": [
    "a = 6\n",
    "b = 7\n",
    "c = 9\n",
    "\n",
    "d = (a + b) * c\n",
    "\n",
    "print(d)"
   ]
  },
  {
   "cell_type": "markdown",
   "metadata": {},
   "source": [
    "If you're really desperate to save space in your code, you can also assign multiple variables in one line:"
   ]
  },
  {
   "cell_type": "code",
   "execution_count": 2,
   "metadata": {},
   "outputs": [
    {
     "name": "stdout",
     "output_type": "stream",
     "text": [
      "1 2.0 hi\n"
     ]
    }
   ],
   "source": [
    "x, y, z = 1, 2.0, \"hi\"\n",
    "\n",
    "print(x,y,z)"
   ]
  },
  {
   "cell_type": "markdown",
   "metadata": {},
   "source": [
    "***\n",
    "## User input\n",
    "\n",
    "So you can assign values to variables in your code, but what if you want to be able to change those variables freely without editing it? For this, we turn to the *input function*, which will allow you to enter the value from a prompt for a specific variable.\n",
    "\n",
    "The `input()` function, like the `print()` function, takes in a string and prints it to the terminal. The difference is that, in the case of `input()`, the user will be able to enter a value directly into the terminal after this string appears. The string should be a prompt.\n",
    "\n",
    "For example, say I wanted to ask the user their age, and store it in a variable `age` for use later in the program. To do so, I would run the following code:"
   ]
  },
  {
   "cell_type": "code",
   "execution_count": 36,
   "metadata": {},
   "outputs": [
    {
     "name": "stdout",
     "output_type": "stream",
     "text": [
      "Enter your age (in years): 21\n"
     ]
    }
   ],
   "source": [
    "age = input(\"Enter your age (in years): \")\n",
    "# (In Jupyter, a text box appears, but in your terminal will be a blinking marker.)"
   ]
  },
  {
   "cell_type": "code",
   "execution_count": 37,
   "metadata": {},
   "outputs": [
    {
     "name": "stdout",
     "output_type": "stream",
     "text": [
      "21\n"
     ]
    }
   ],
   "source": [
    "print(age)"
   ]
  },
  {
   "cell_type": "markdown",
   "metadata": {},
   "source": [
    "I entered an integer as my age, but is that the type of our variable `age`?"
   ]
  },
  {
   "cell_type": "code",
   "execution_count": 38,
   "metadata": {},
   "outputs": [
    {
     "data": {
      "text/plain": [
       "str"
      ]
     },
     "execution_count": 38,
     "metadata": {},
     "output_type": "execute_result"
    }
   ],
   "source": [
    "type(age)"
   ]
  },
  {
   "cell_type": "markdown",
   "metadata": {},
   "source": [
    "As you can see, when we use `input()`, Python takes whatever we type in as a string. If, for example, we wanted to do some calculation with this age, the fact that it's a string would cause problems. We can get around this by typecasting the result:"
   ]
  },
  {
   "cell_type": "code",
   "execution_count": 40,
   "metadata": {},
   "outputs": [
    {
     "name": "stdout",
     "output_type": "stream",
     "text": [
      "Enter your age (in years): 21\n"
     ]
    }
   ],
   "source": [
    "age = input(\"Enter your age (in years): \")\n",
    "age = int(age)"
   ]
  },
  {
   "cell_type": "code",
   "execution_count": 41,
   "metadata": {},
   "outputs": [
    {
     "name": "stdout",
     "output_type": "stream",
     "text": [
      "<class 'int'>\n"
     ]
    }
   ],
   "source": [
    "print(type(age))"
   ]
  },
  {
   "cell_type": "markdown",
   "metadata": {},
   "source": [
    "***\n",
    "## Debugging\n",
    "\n",
    "Most of the time spent programming (and usually even more in the beginning) is dedicated to debugging your code. If your code doesn't work, you search for the bug that's breaking it. There are a few types of errors that Python may throw at you:\n",
    "\n",
    "### Syntax errors\n",
    "\n",
    "Syntax errors come up for things like typos and bad variable names:"
   ]
  },
  {
   "cell_type": "code",
   "execution_count": 26,
   "metadata": {},
   "outputs": [
    {
     "ename": "SyntaxError",
     "evalue": "invalid syntax (<ipython-input-26-f13e19a6d04f>, line 1)",
     "output_type": "error",
     "traceback": [
      "\u001b[0;36m  File \u001b[0;32m\"<ipython-input-26-f13e19a6d04f>\"\u001b[0;36m, line \u001b[0;32m1\u001b[0m\n\u001b[0;31m    var! = 12 # Variable name has illegal characters\u001b[0m\n\u001b[0m       ^\u001b[0m\n\u001b[0;31mSyntaxError\u001b[0m\u001b[0;31m:\u001b[0m invalid syntax\n"
     ]
    }
   ],
   "source": [
    "var! = 12 # Variable name has illegal characters"
   ]
  },
  {
   "cell_type": "code",
   "execution_count": 30,
   "metadata": {},
   "outputs": [
    {
     "ename": "SyntaxError",
     "evalue": "invalid syntax (<ipython-input-30-73c989840b17>, line 1)",
     "output_type": "error",
     "traceback": [
      "\u001b[0;36m  File \u001b[0;32m\"<ipython-input-30-73c989840b17>\"\u001b[0;36m, line \u001b[0;32m1\u001b[0m\n\u001b[0;31m    print(12 > 11 asd 1 == 1) # Misspelled 'and'\u001b[0m\n\u001b[0m                    ^\u001b[0m\n\u001b[0;31mSyntaxError\u001b[0m\u001b[0;31m:\u001b[0m invalid syntax\n"
     ]
    }
   ],
   "source": [
    "print(12 > 11 asd 1 == 1) # Misspelled 'and'"
   ]
  },
  {
   "cell_type": "markdown",
   "metadata": {},
   "source": [
    "### Semantic errors\n",
    "\n",
    "Semantic errors are cases where your code runs just fine, but it doesn't produce the result you want. This is often because of things like order of operations and integer division. Basically user error. You can search for these kinds of errors by printing variables that may be causing issues to see if they're right, or adding extra parintheses in your expressions to make absolutely sure that the order of operations are is correct.\n",
    "\n",
    "\n",
    "### Runtime errors\n",
    "\n",
    "Runtime errors occur when your code runs forever, like in an infinite loop. We'll touch on this again when we talk about loops, in the next tutorial."
   ]
  },
  {
   "cell_type": "code",
   "execution_count": null,
   "metadata": {},
   "outputs": [],
   "source": []
  }
 ],
 "metadata": {
  "kernelspec": {
   "display_name": "Python 3",
   "language": "python",
   "name": "python3"
  },
  "language_info": {
   "codemirror_mode": {
    "name": "ipython",
    "version": 3
   },
   "file_extension": ".py",
   "mimetype": "text/x-python",
   "name": "python",
   "nbconvert_exporter": "python",
   "pygments_lexer": "ipython3",
   "version": "3.7.3"
  }
 },
 "nbformat": 4,
 "nbformat_minor": 2
}
