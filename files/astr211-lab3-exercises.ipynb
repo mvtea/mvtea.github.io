{
 "cells": [
  {
   "cell_type": "markdown",
   "metadata": {},
   "source": [
    "# <ins>Lab #3: Plotting, Reading, and Writing Data</ins>\n",
    "*ASTR 211: Observational Astronomy, Spring 2021* \\\n",
    "*Written by Mason V. Tea*"
   ]
  },
  {
   "cell_type": "markdown",
   "metadata": {},
   "source": [
    "## Problem 1\n",
    "\n",
    "In my research on X-ray binaries, I utilize the Novikov-Thorne thin accretion disk approximation for black holes, which relates the temperature of the accertion disk to the mass of the accretor. Typical disk temperatures range between 0.5 and 1.0 keV. Using this relationship, calculate the mass of black holes (a) within this range, (b) in the \"interesting\" regime of 1.0 to 3.0 keV, and (c) in the \"crazy\" range of >5.0 keV. Plot your results, making sure the three regimes are clearly labeled in your plot.\n",
    "\n",
    "$$T_{eff} \\sim \\Bigg(\\frac{10M_\\odot}{M}\\Bigg)^{1/4} \\text{ keV}$$"
   ]
  },
  {
   "cell_type": "code",
   "execution_count": 13,
   "metadata": {},
   "outputs": [],
   "source": [
    "# Your code here:\n"
   ]
  },
  {
   "cell_type": "markdown",
   "metadata": {},
   "source": [
    "## Problem 2\n",
    "\n",
    "1. Navigate to [the Exoplanet Archive's table of confirmed planets](https://exoplanetarchive.ipac.caltech.edu/cgi-bin/TblView/nph-tblView?app=ExoTbls&config=planets&constraint=pl_facility%20like%20%27Transiting%20Exoplanet%20Survey%20Satellite%20(TESS)%27).\n",
    "2. Create a table using the \"select columns\" tab in the upper lefthand corner containing some variables that you think might be interesting to see in a plot. \n",
    "3. Download the table as a CSV using the \"download table\" button next to the \"select columns\" button.\n",
    "4. Create one scatter plot and one histogram (both well-labeled) from this data."
   ]
  },
  {
   "cell_type": "code",
   "execution_count": 1,
   "metadata": {},
   "outputs": [],
   "source": [
    "# Your code here:\n"
   ]
  },
  {
   "cell_type": "markdown",
   "metadata": {},
   "source": [
    "## Problem 3\n",
    "\n",
    "The _hardness ratio_ of an object is the ratio between its hard (high-energy) photons and its soft (low-energy) photons that hit the CCD. I've provideded a CSV file containing hardness ratios and their errors for all the X-ray sources in my research sample. It includes the \"hard-medium\" (hm), \"medium-soft\" (ms), and \"hard-soft\" (hs) ratios, the equations of which look like this, respectively:\n",
    "\n",
    "$$\\frac{H-M}{H+M},\\quad\\quad\\frac{M-S}{M+S},\\quad\\quad\\frac{H-S}{H+S}$$\n",
    "\n",
    "where H, M, and S are the counts in each energy band. Load the data into your program and plot them on a scatter plot with their errors. Be sure to add labels."
   ]
  },
  {
   "cell_type": "code",
   "execution_count": 2,
   "metadata": {},
   "outputs": [],
   "source": [
    "# Your code here:\n"
   ]
  }
 ],
 "metadata": {
  "kernelspec": {
   "display_name": "Python 3",
   "language": "python",
   "name": "python3"
  },
  "language_info": {
   "codemirror_mode": {
    "name": "ipython",
    "version": 3
   },
   "file_extension": ".py",
   "mimetype": "text/x-python",
   "name": "python",
   "nbconvert_exporter": "python",
   "pygments_lexer": "ipython3",
   "version": "3.7.3"
  }
 },
 "nbformat": 4,
 "nbformat_minor": 2
}
