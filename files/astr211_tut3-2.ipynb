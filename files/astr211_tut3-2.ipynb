{
 "cells": [
  {
   "cell_type": "markdown",
   "metadata": {},
   "source": [
    "# <ins>Tutorial 3.2: Reading & Writing Data</ins>\n",
    "*ASTR 211: Observational Astronomy, Spring 2021* \\\n",
    "*Written by Mason V. Tea*"
   ]
  },
  {
   "cell_type": "markdown",
   "metadata": {},
   "source": [
    "Astronomical data often comes with zillions of datapoints, and we have to store them somewhere. Once we've stored them somewhere, we have to be able to read them to do science with them. That's what this tutorial is all about.\n",
    "\n",
    "This is a very brief introduction to reading from and writing data to files, specifically CSVs (and TSVs). **CSV** files, which have the naming format `file.csv`, are documents containing **c**omma **s**eparated **v**alues; TSVs (tab-separated values) are less common but still relevant. You can think of a CSV as a spreadsheet, where each row is a new line and each entry in a row is separated by a comma. For example, a file `personal-info.csv` may look something like this:\n",
    "\n",
    "```\n",
    "firstname,lastname,age,birthmonth,birthyear\n",
    "joe,smith,20,june,1998\n",
    "kate,yang,23,march,2001\n",
    "```\n",
    "\n",
    "The first row of a CSV typically contains labels for the columns, while the rest of the rows populate those columns. You might wonder why astronomers prefer CSVs to using Excel spreadsheets like normal people, and that's because it's much easier to have a machine parse (read) and append (write to) a CSV file.\n",
    "\n",
    "This tutorial will cover reading and writing CSV files to the extent that I use it every day as someone who does research and homework that requires it, i.e. the basics. We'll talk about manipulating other types of files (i.e. FITS, the true astronomical filetype of choice) when we talk about telescope data processing in a few weeks."
   ]
  },
  {
   "cell_type": "code",
   "execution_count": 36,
   "metadata": {},
   "outputs": [],
   "source": [
    "import numpy as np"
   ]
  },
  {
   "cell_type": "markdown",
   "metadata": {},
   "source": [
    "## Writing data\n",
    "\n",
    "Let's start by populating a file with some data for us to poke around with. First, we want to open our file, so we can start writing in it. To do this, we use the `open()` command, which is built into Python. The way I like to go about it is using a `with` statement, like so:"
   ]
  },
  {
   "cell_type": "code",
   "execution_count": 5,
   "metadata": {},
   "outputs": [
    {
     "ename": "FileNotFoundError",
     "evalue": "[Errno 2] No such file or directory: 'example2.csv'",
     "output_type": "error",
     "traceback": [
      "\u001b[0;31m---------------------------------------------------------------------------\u001b[0m",
      "\u001b[0;31mFileNotFoundError\u001b[0m                         Traceback (most recent call last)",
      "\u001b[0;32m<ipython-input-5-5999a23af0c0>\u001b[0m in \u001b[0;36m<module>\u001b[0;34m\u001b[0m\n\u001b[0;32m----> 1\u001b[0;31m \u001b[0;32mwith\u001b[0m \u001b[0mopen\u001b[0m\u001b[0;34m(\u001b[0m\u001b[0;34m\"example2.csv\"\u001b[0m\u001b[0;34m)\u001b[0m \u001b[0;32mas\u001b[0m \u001b[0mfile\u001b[0m\u001b[0;34m:\u001b[0m\u001b[0;34m\u001b[0m\u001b[0;34m\u001b[0m\u001b[0m\n\u001b[0m\u001b[1;32m      2\u001b[0m     \u001b[0;32mpass\u001b[0m\u001b[0;34m\u001b[0m\u001b[0;34m\u001b[0m\u001b[0m\n",
      "\u001b[0;31mFileNotFoundError\u001b[0m: [Errno 2] No such file or directory: 'example2.csv'"
     ]
    }
   ],
   "source": [
    "with open(\"example.csv\") as file:\n",
    "    pass"
   ]
  },
  {
   "cell_type": "markdown",
   "metadata": {},
   "source": [
    "If you run this cell, you'll see that it throws you an error: `No such file or directory: example.csv`. By only giving the `open()` function the name of the file you want to access, it doesn't know whether you want to read or write, and will let you do both. This means that, when it tries to read the file and it doesn't already exist, you get an error.\n",
    "\n",
    "If you want to create a file from thin air, we can add a second argument `'w'`, meaning \"write only\". This will create the file that you named and allow you to edit it."
   ]
  },
  {
   "cell_type": "code",
   "execution_count": 7,
   "metadata": {},
   "outputs": [],
   "source": [
    "with open(\"example.csv\", 'w') as file:\n",
    "    pass"
   ]
  },
  {
   "cell_type": "markdown",
   "metadata": {},
   "source": [
    "If you run the cell above, you should have a new file called `example.csv` in the same folder as this Jupyter file. Now, let's add some stuff to the file with the `write()` command. We've _aliased_ this file that we've opened as `file`, so we can type `file.write(\"<stuff>\")` under the `with` statement to add lines. (`file` is a variable name, and can be whatever you want, though.)"
   ]
  },
  {
   "cell_type": "code",
   "execution_count": 10,
   "metadata": {},
   "outputs": [],
   "source": [
    "with open(\"example.csv\", 'w') as file:\n",
    "    file.write(\"Hello\")"
   ]
  },
  {
   "cell_type": "markdown",
   "metadata": {},
   "source": [
    "Now, if you open the file, you should just see the line \"Hello\". To check this, here's two sidenotes: \n",
    "\n",
    "1. If you type a percent sign in a code cell in Jupyter, you can use Unix commands. \n",
    "2. If you type `cat <filename>` in the command line, it'll read the contents of the file to you.\n",
    "\n",
    "Using this, let's check that our file writing worked."
   ]
  },
  {
   "cell_type": "code",
   "execution_count": 12,
   "metadata": {},
   "outputs": [
    {
     "name": "stdout",
     "output_type": "stream",
     "text": [
      "Hello"
     ]
    }
   ],
   "source": [
    "%cat example.csv"
   ]
  },
  {
   "cell_type": "markdown",
   "metadata": {},
   "source": [
    "Sure did. Let's add another line."
   ]
  },
  {
   "cell_type": "code",
   "execution_count": 13,
   "metadata": {},
   "outputs": [],
   "source": [
    "with open(\"example.csv\", 'w') as file:\n",
    "    file.write(\"Hello\")\n",
    "    file.write(\"Hello\")"
   ]
  },
  {
   "cell_type": "code",
   "execution_count": 14,
   "metadata": {},
   "outputs": [
    {
     "name": "stdout",
     "output_type": "stream",
     "text": [
      "HelloHello"
     ]
    }
   ],
   "source": [
    "%cat example.csv"
   ]
  },
  {
   "cell_type": "markdown",
   "metadata": {},
   "source": [
    "We don't seem to have gotten a new line. For this, we have to use a \"special character\" of sorts, which we talked about when we went over strings. The \"new line\" character is `\"\\n\"` -- adding this to the end of a string means the next entry will be on the next line. (Alternatively, adding it to the beginning of a string means _it_ will be on the next line.) Let's add this character and give it another try:"
   ]
  },
  {
   "cell_type": "code",
   "execution_count": 19,
   "metadata": {},
   "outputs": [],
   "source": [
    "with open(\"example.csv\", 'w') as file:\n",
    "    file.write(\"Hello\\n\")\n",
    "    file.write(\"Hello\")\n",
    "    file.close()"
   ]
  },
  {
   "cell_type": "code",
   "execution_count": 20,
   "metadata": {},
   "outputs": [
    {
     "name": "stdout",
     "output_type": "stream",
     "text": [
      "Hello\r\n",
      "Hello"
     ]
    }
   ],
   "source": [
    "%cat example.csv"
   ]
  },
  {
   "cell_type": "markdown",
   "metadata": {},
   "source": [
    "Great! Now, something I've neglected to mention til now is that we've been overwriting our file over and over again, if it wasn't obvious. That's because of the `\"w\"` argument. So, if we open up our file again with `\"w\"` and write some new stuff, the old will be gone."
   ]
  },
  {
   "cell_type": "code",
   "execution_count": 23,
   "metadata": {},
   "outputs": [],
   "source": [
    "with open(\"example.csv\", 'w') as file:\n",
    "    file.write(\"Howdy\\n\")"
   ]
  },
  {
   "cell_type": "code",
   "execution_count": 24,
   "metadata": {},
   "outputs": [
    {
     "name": "stdout",
     "output_type": "stream",
     "text": [
      "Howdy\r\n"
     ]
    }
   ],
   "source": [
    "%cat example.csv"
   ]
  },
  {
   "cell_type": "markdown",
   "metadata": {},
   "source": [
    "If, instead, you wanted to add onto the end of your file, you can substitute it for the `\"a\"` argment (append). If we open our file this way now, and add a new line, we should retain \"Howdy\\n\"."
   ]
  },
  {
   "cell_type": "code",
   "execution_count": 25,
   "metadata": {},
   "outputs": [],
   "source": [
    "with open(\"example.csv\", 'a') as file:\n",
    "    file.write(\"Hola\")"
   ]
  },
  {
   "cell_type": "code",
   "execution_count": 26,
   "metadata": {},
   "outputs": [
    {
     "name": "stdout",
     "output_type": "stream",
     "text": [
      "Howdy\r\n",
      "Hola"
     ]
    }
   ],
   "source": [
    "%cat example.csv"
   ]
  },
  {
   "cell_type": "markdown",
   "metadata": {},
   "source": [
    "TL;DR: `\"a\"` preserves the file and adds onto the end of it, while `\"w\"` does not. Now, you can see how we can create something that lives up to the name of a CSV with this `open()` function: just add stuff line by line."
   ]
  },
  {
   "cell_type": "code",
   "execution_count": 27,
   "metadata": {},
   "outputs": [],
   "source": [
    "with open(\"example.csv\", 'w') as file:\n",
    "    file.write(\"name,age,birthmonth\\n\")\n",
    "    file.write(\"joe,smith,june\\n\")\n",
    "    file.write(\"kate,yang,march\")"
   ]
  },
  {
   "cell_type": "code",
   "execution_count": 28,
   "metadata": {},
   "outputs": [
    {
     "name": "stdout",
     "output_type": "stream",
     "text": [
      "name,age,birthmonth\r\n",
      "joe,smith,june\r\n",
      "kate,yang,march"
     ]
    }
   ],
   "source": [
    "%cat example.csv"
   ]
  },
  {
   "cell_type": "markdown",
   "metadata": {},
   "source": [
    "If you're adding a bunch of data to a CSV, you can totally use this `open()` function in a loop, in combination with some string manipulations. For example, let's add numbers in groups of threes to our file."
   ]
  },
  {
   "cell_type": "code",
   "execution_count": 30,
   "metadata": {},
   "outputs": [],
   "source": [
    "for x in range(20):\n",
    "    with open('example.csv', 'w') as file:\n",
    "        file.write('{0},{1},{2}\\n'.format(x,x+1,x+2))"
   ]
  },
  {
   "cell_type": "code",
   "execution_count": 31,
   "metadata": {},
   "outputs": [
    {
     "name": "stdout",
     "output_type": "stream",
     "text": [
      "19,20,21\r\n"
     ]
    }
   ],
   "source": [
    "%cat example.csv"
   ]
  },
  {
   "cell_type": "markdown",
   "metadata": {},
   "source": [
    "Remember, though: `\"w\"` overrwrites the file. So, by using `\"w\"` in this loop, we just overwrote the first line over and over again. Let's try again with `\"a\"`:"
   ]
  },
  {
   "cell_type": "code",
   "execution_count": 33,
   "metadata": {},
   "outputs": [],
   "source": [
    "for x in range(20):\n",
    "    with open('example2.csv', 'a') as file:\n",
    "        file.write('{0},{1},{2}\\n'.format(x,x+1,x+2))"
   ]
  },
  {
   "cell_type": "code",
   "execution_count": 34,
   "metadata": {},
   "outputs": [
    {
     "name": "stdout",
     "output_type": "stream",
     "text": [
      "0,1,2\r\n",
      "1,2,3\r\n",
      "2,3,4\r\n",
      "3,4,5\r\n",
      "4,5,6\r\n",
      "5,6,7\r\n",
      "6,7,8\r\n",
      "7,8,9\r\n",
      "8,9,10\r\n",
      "9,10,11\r\n",
      "10,11,12\r\n",
      "11,12,13\r\n",
      "12,13,14\r\n",
      "13,14,15\r\n",
      "14,15,16\r\n",
      "15,16,17\r\n",
      "16,17,18\r\n",
      "17,18,19\r\n",
      "18,19,20\r\n",
      "19,20,21\r\n"
     ]
    }
   ],
   "source": [
    "%cat example2.csv"
   ]
  },
  {
   "cell_type": "markdown",
   "metadata": {},
   "source": [
    "That's about all there is to say about writing. Now let's talk about what to do once you have a file you want to use.\n",
    "\n",
    "## Reading data\n",
    "\n",
    "While you can definitely use the `open()` function to read lines of your file, it's much easier when working with data (rather than, say, text) to use a library called `pandas`. This library comes with a structure similar to a `numpy` array called a `DataFrame`, which you can just think of as a table. \n",
    "\n",
    "First, I'm going to make a CSV with some random values for us to test it out on. First, the values:"
   ]
  },
  {
   "cell_type": "code",
   "execution_count": 38,
   "metadata": {},
   "outputs": [],
   "source": [
    "val1 = np.random.randn(20)\n",
    "val2 = np.random.randn(20)\n",
    "val3 = np.random.randn(20)"
   ]
  },
  {
   "cell_type": "markdown",
   "metadata": {},
   "source": [
    "Then, the column names:"
   ]
  },
  {
   "cell_type": "code",
   "execution_count": 39,
   "metadata": {},
   "outputs": [],
   "source": [
    "with open('random.csv','a') as file:\n",
    "    file.write('colA,colB,colC\\n')"
   ]
  },
  {
   "cell_type": "markdown",
   "metadata": {},
   "source": [
    "Finally, add the data:"
   ]
  },
  {
   "cell_type": "code",
   "execution_count": 40,
   "metadata": {},
   "outputs": [],
   "source": [
    "for x in range(len(val1)):\n",
    "    with open('random.csv','a') as file:\n",
    "        file.write('{0},{1},{2}\\n'.format(val1[x],val2[x],val3[x]))"
   ]
  },
  {
   "cell_type": "code",
   "execution_count": 41,
   "metadata": {},
   "outputs": [
    {
     "name": "stdout",
     "output_type": "stream",
     "text": [
      "colA,colB,colC\r\n",
      "1.9836130420095421,0.04824535428206758,-0.6077963644263686\r\n",
      "0.5247187259291767,-0.22430098876900806,0.011550230781106768\r\n",
      "-0.28750600781964525,-0.5936154289298304,-0.037278140386934944\r\n",
      "-0.1369824955136523,-0.6362942500144838,2.280356099225377\r\n",
      "-0.3622079922244438,0.5423653139585406,-1.789900588307686\r\n",
      "1.6814764704453473,-0.3988143723262242,0.20600481272680357\r\n",
      "0.2868356023970937,1.0667656538878563,-0.16783808258082866\r\n",
      "-1.414392612309825,1.3128734053396185,-0.5537060116875314\r\n",
      "-0.715657384461026,-0.4024411883263483,-0.24237190738321882\r\n",
      "1.2050861233402201,1.5754237740222052,1.264855520601279\r\n",
      "-1.145545762480665,0.7546460222270381,-1.0089585012186073\r\n",
      "0.7696035075040498,0.06501927544855607,-0.6390329741835039\r\n",
      "0.30310712124667355,-0.8415151674906627,-0.8471543297316817\r\n",
      "0.16467268906973545,1.9469985767758837,0.04096914210952014\r\n",
      "-1.3366357249991512,2.1062706545730654,-0.21875363743539258\r\n",
      "1.062100814405859,-0.5414327304651658,-0.18079044549951512\r\n",
      "-0.7014849724923459,-0.24906582595964108,-0.5151958890460704\r\n",
      "0.468504679806395,0.8474604723083288,-0.08875548671910197\r\n",
      "-1.321257820627979,-2.460593997904274,0.276417403170521\r\n",
      "-0.027720400156936935,0.7079962113856973,1.0269411504168757\r\n"
     ]
    }
   ],
   "source": [
    "%cat random.csv"
   ]
  },
  {
   "cell_type": "markdown",
   "metadata": {},
   "source": [
    "Next, we'll import `pandas` (commonly aliased as `pd`) and get to work. To load the contents of the file into a `DataFrame`, we use the `read_csv()` function, the result of which we assign to a variable (in this case, we'll call it `data`)."
   ]
  },
  {
   "cell_type": "code",
   "execution_count": 42,
   "metadata": {},
   "outputs": [],
   "source": [
    "import pandas as pd\n",
    "\n",
    "data = pd.read_csv('random.csv')"
   ]
  },
  {
   "cell_type": "markdown",
   "metadata": {},
   "source": [
    "Now, let's check out what's inside. The `data` variable is now a `DataFrame` type, with all of the contents of the CSV separated into the categories specified by the column titles. Think of each column as its own array -- in order to access that array, you have to index it using its _name_ rather than a number. \n",
    "\n",
    "For example, let's look at the contents of column A (`colA`)."
   ]
  },
  {
   "cell_type": "code",
   "execution_count": 45,
   "metadata": {},
   "outputs": [
    {
     "name": "stdout",
     "output_type": "stream",
     "text": [
      "0     1.983613\n",
      "1     0.524719\n",
      "2    -0.287506\n",
      "3    -0.136982\n",
      "4    -0.362208\n",
      "5     1.681476\n",
      "6     0.286836\n",
      "7    -1.414393\n",
      "8    -0.715657\n",
      "9     1.205086\n",
      "10   -1.145546\n",
      "11    0.769604\n",
      "12    0.303107\n",
      "13    0.164673\n",
      "14   -1.336636\n",
      "15    1.062101\n",
      "16   -0.701485\n",
      "17    0.468505\n",
      "18   -1.321258\n",
      "19   -0.027720\n",
      "Name: colA, dtype: float64\n"
     ]
    }
   ],
   "source": [
    "print(data['colA'])"
   ]
  },
  {
   "cell_type": "markdown",
   "metadata": {},
   "source": [
    "As you can see, it's just a list, with the index of each element labeled when we print it. In order to access the individual values in this list, we can index it just like a normal one, with the addition of the column name. Let's grab the 6th element."
   ]
  },
  {
   "cell_type": "code",
   "execution_count": 47,
   "metadata": {},
   "outputs": [
    {
     "name": "stdout",
     "output_type": "stream",
     "text": [
      "1.681476470445347\n",
      "<class 'numpy.float64'>\n"
     ]
    }
   ],
   "source": [
    "print(data['colA'][5])\n",
    "print(type(data['colA'][5]))"
   ]
  },
  {
   "cell_type": "markdown",
   "metadata": {},
   "source": [
    "Note that reading in data like this means that you've loaded a copy into the Python program, i.e. you're not actually editing your CSV file.\n",
    "\n",
    "Also, you will be happy to know that these named columns work the same way as `numpy` arrays, in that you can perform calculations on all of their values all at once. For example, let's make a copy of this column and multiply all the values by 10."
   ]
  },
  {
   "cell_type": "code",
   "execution_count": 48,
   "metadata": {},
   "outputs": [
    {
     "name": "stdout",
     "output_type": "stream",
     "text": [
      "0     19.836130\n",
      "1      5.247187\n",
      "2     -2.875060\n",
      "3     -1.369825\n",
      "4     -3.622080\n",
      "5     16.814765\n",
      "6      2.868356\n",
      "7    -14.143926\n",
      "8     -7.156574\n",
      "9     12.050861\n",
      "10   -11.455458\n",
      "11     7.696035\n",
      "12     3.031071\n",
      "13     1.646727\n",
      "14   -13.366357\n",
      "15    10.621008\n",
      "16    -7.014850\n",
      "17     4.685047\n",
      "18   -13.212578\n",
      "19    -0.277204\n",
      "Name: colA, dtype: float64\n"
     ]
    }
   ],
   "source": [
    "colA = data['colA']*10\n",
    "print(colA)"
   ]
  },
  {
   "cell_type": "markdown",
   "metadata": {},
   "source": [
    "So, that means that you can load in arrays of data from a CSV and do math just like you would when defining the arrays yourself!\n",
    "\n",
    "That's the basics, and essentially all I've needed to get by in the last four years."
   ]
  },
  {
   "cell_type": "code",
   "execution_count": null,
   "metadata": {},
   "outputs": [],
   "source": []
  }
 ],
 "metadata": {
  "kernelspec": {
   "display_name": "Python 3",
   "language": "python",
   "name": "python3"
  },
  "language_info": {
   "codemirror_mode": {
    "name": "ipython",
    "version": 3
   },
   "file_extension": ".py",
   "mimetype": "text/x-python",
   "name": "python",
   "nbconvert_exporter": "python",
   "pygments_lexer": "ipython3",
   "version": "3.7.3"
  }
 },
 "nbformat": 4,
 "nbformat_minor": 2
}
