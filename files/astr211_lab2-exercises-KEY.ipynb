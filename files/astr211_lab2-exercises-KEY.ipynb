{
 "cells": [
  {
   "cell_type": "markdown",
   "metadata": {},
   "source": [
    "# <ins>Lab #2: Basics + Loops, Conditionals & Functions </ins>\n",
    "\n",
    "These exercises are meant to give you some practice with the concepts from Tutorials 2.1-2.3, as well as Tutorials 1.1/1.2 since we didn't get to the exercises last week. Be sure to use best practices, comment your code, and be mindful of your units."
   ]
  },
  {
   "cell_type": "code",
   "execution_count": 7,
   "metadata": {},
   "outputs": [],
   "source": [
    "# Import any libraries here:\n",
    "import math\n",
    "import numpy as np\n",
    "import matplotlib.pyplot as plt"
   ]
  },
  {
   "cell_type": "markdown",
   "metadata": {},
   "source": [
    "***\n",
    "## Arithmetic & variables\n",
    "\n",
    "1. Use the quadratic equation, to find the roots of $5x^2 + 3x + 1$ by calculating the numerator and denominator separately. Round to 2 decimal places. (**Tip:** When parintheses in a big equation get a little hard to read, breaking it up like this is a good way to make code easier to read.)\n",
    "\n",
    "$$x = \\frac{-b \\pm \\sqrt{b^2 - 4ac}}{2a}$$"
   ]
  },
  {
   "cell_type": "code",
   "execution_count": 2,
   "metadata": {},
   "outputs": [
    {
     "name": "stdout",
     "output_type": "stream",
     "text": [
      "0.24 -0.84\n"
     ]
    }
   ],
   "source": [
    "# Your code here:\n",
    "\n",
    "import math\n",
    "a,b,c = 5,3,-1\n",
    "\n",
    "num_plus = -b + math.sqrt(b**2 - 4 * a * c)\n",
    "num_minus = -b - math.sqrt(b**2 - 4 * a * c)\n",
    "denom = 2*a\n",
    "\n",
    "root_plus = num_plus/denom\n",
    "root_minus = num_minus/denom\n",
    "\n",
    "print(round(root_plus,2), round(root_minus,2))"
   ]
  },
  {
   "cell_type": "markdown",
   "metadata": {},
   "source": [
    "2. Use the distance modulus, to find the distance to a star with apparent magnitude $m_v = 0.5$ and absolute magnitude $M_v = -5.85$.\n",
    "\n",
    "$$m_v - M_v = 5log(d/10 \\text{ pc})$$"
   ]
  },
  {
   "cell_type": "code",
   "execution_count": 3,
   "metadata": {},
   "outputs": [
    {
     "name": "stdout",
     "output_type": "stream",
     "text": [
      "186.20871366628677 pc\n"
     ]
    }
   ],
   "source": [
    "# Your code here:\n",
    "\n",
    "m, M = 0.5, -5.85\n",
    "d = 10**((m-M)/5)*10\n",
    "\n",
    "print(d, 'pc')"
   ]
  },
  {
   "cell_type": "markdown",
   "metadata": {},
   "source": [
    "***\n",
    "## User input & data types\n",
    "\n",
    "Prompt the user for their age and calculate the percent of their life they've completed assuming they live to 80 years old."
   ]
  },
  {
   "cell_type": "code",
   "execution_count": 7,
   "metadata": {},
   "outputs": [
    {
     "name": "stdout",
     "output_type": "stream",
     "text": [
      "How old are you in years? 21\n",
      "26.25 %\n"
     ]
    }
   ],
   "source": [
    "# Your code here:\n",
    "\n",
    "age = input('How old are you in years? ')\n",
    "\n",
    "print((int(age)/80.0)*100.0, '%')"
   ]
  },
  {
   "cell_type": "markdown",
   "metadata": {},
   "source": [
    "***\n",
    "## Indexing\n",
    "\n",
    "1. Print the strings \"pneumono,\" \"ultra,\" \"volcano,\" and \"coniosis\" by slicing the word \"pneumonoultramicroscopicsilicovolcanoconiosis\"."
   ]
  },
  {
   "cell_type": "code",
   "execution_count": 8,
   "metadata": {},
   "outputs": [
    {
     "name": "stdout",
     "output_type": "stream",
     "text": [
      "Fourth letter: u\n",
      "Ninth letter: l\n",
      "Fifteenth letter: c\n",
      "Third index: u\n",
      "Twelfth index: a\n",
      "Twentieth index: o\n"
     ]
    }
   ],
   "source": [
    "# Your code here:\n",
    "\n",
    "string = \"pneumonoultramicroscopicsilicovolcanoconiosis\"\n",
    "\n",
    "fourth,ninth,fifteenth = string[3], string[9], string[15]\n",
    "index_20, index_3, index_12 = string[20], string[3], string[12]\n",
    "\n",
    "print(\"Fourth letter:\", fourth)\n",
    "print(\"Ninth letter:\", ninth)\n",
    "print(\"Fifteenth letter:\", fifteenth)\n",
    "\n",
    "print(\"Third index:\", index_3)\n",
    "print(\"Twelfth index:\", index_12)\n",
    "print(\"Twentieth index:\", index_20)"
   ]
  },
  {
   "cell_type": "markdown",
   "metadata": {},
   "source": [
    "2. Print the 4th, 9th, and 15th letter and the letter at the 20th, 3rd, and 12th indices of the word from part one by indexing."
   ]
  },
  {
   "cell_type": "code",
   "execution_count": 9,
   "metadata": {},
   "outputs": [
    {
     "name": "stdout",
     "output_type": "stream",
     "text": [
      "pneumono ultra microscopic volcanoconiosis\n"
     ]
    }
   ],
   "source": [
    "# Your code here:\n",
    "\n",
    "string = \"pneumonoultramicroscopicsilicovolcanoconiosis\"\n",
    "\n",
    "pneumono = string[:8]\n",
    "ultra = string[8:13]\n",
    "microscopic = string[13:24]\n",
    "volcanoconiosis = string[-15:]\n",
    "\n",
    "print(pneumono, ultra, microscopic, volcanoconiosis)"
   ]
  },
  {
   "cell_type": "markdown",
   "metadata": {},
   "source": [
    "***\n",
    "## `numpy` arrays\n",
    "\n",
    "Use the Wein displacement law to calculate the temperatures of blackbodies with 20 peak wavelengths between 300nm and 700nm using arrays.\n",
    "\n",
    "\\begin{equation}\n",
    "    \\lambda_{peak}T = 0.29 \\text{ cm K}\n",
    "\\end{equation}"
   ]
  },
  {
   "cell_type": "code",
   "execution_count": 10,
   "metadata": {},
   "outputs": [
    {
     "name": "stdout",
     "output_type": "stream",
     "text": [
      "[9666.66666667 9032.78688525 8476.92307692 7985.50724638 7547.94520548\n",
      " 7155.84415584 6802.4691358  6482.35294118 6191.01123596 5924.7311828\n",
      " 5680.41237113 5455.44554455 5247.61904762 5055.04587156 4876.10619469\n",
      " 4709.4017094  4553.71900826 4408.         4271.31782946 4142.85714286]\n"
     ]
    }
   ],
   "source": [
    "# Your code here:\n",
    "\n",
    "lambdas = np.linspace(300,700,20)\n",
    "lambdas_cm = lambdas*1E-7\n",
    "\n",
    "temps = 0.29 / lambdas_cm\n",
    "\n",
    "print(temps)"
   ]
  },
  {
   "cell_type": "markdown",
   "metadata": {},
   "source": [
    "***\n",
    "## Conditional statements\n",
    "\n",
    "Write a program that has the user input a wavelength or frequency and returns (a) the photon energy, and (b) the part of the electromagnetic spectrum in which a photon of that energy falls.\n",
    "\n",
    "$$E = h\\nu \\quad\\text{&}\\quad \\lambda\\nu = c$$"
   ]
  },
  {
   "cell_type": "code",
   "execution_count": 2,
   "metadata": {},
   "outputs": [
    {
     "name": "stdout",
     "output_type": "stream",
     "text": [
      "Would you like to enter a wavelength or a frequency? Enter w for wavelength, f for frequency: w\n",
      "Enter the value in centimeters for wavelength, in Hertz for frequency: 1\n",
      "Radio; energy =  0.0001239 eV\n"
     ]
    }
   ],
   "source": [
    "# Your code here:\n",
    "\n",
    "wav_or_freq = input(\"Would you like to enter a wavelength or a frequency? Enter w for wavelength, f for frequency: \")\n",
    "val = float(input(\"Enter the value in centimeters for wavelength, in Hertz for frequency: \"))\n",
    "\n",
    "if wav_or_freq == 'w':\n",
    "    val = val #cm\n",
    "    energy = 4.13E-15*(3*10**10)/(val) #eV\n",
    "elif wav_or_freq == 'f':\n",
    "    energy = 4.13E-15*val #eV\n",
    "    val = (3*10**10)/(val) #cm\n",
    "\n",
    "if val < 1E-9:\n",
    "    print(\"Gamma; energy = \", energy, \"eV\")\n",
    "elif val < 1.0E-6 and val > 1.0E-9:\n",
    "    print(\"X-ray; energy = \", energy, \"eV\")\n",
    "elif val < 3.5E-5 and val > 1.0E-6:\n",
    "    print(\"UV; energy = \", energy, \"eV\")\n",
    "elif val < 7.5E-5 and val > 3.5E-5:\n",
    "    print(\"Visible; energy = \", energy, \"eV\")\n",
    "elif val < 0.5 and val > 7.5E-5:\n",
    "    print(\"IR; energy = \", energy, \"eV\")\n",
    "else:\n",
    "    print(\"Radio; energy = \", energy, \"eV\")\n"
   ]
  },
  {
   "cell_type": "markdown",
   "metadata": {},
   "source": [
    "***\n",
    "## Loops and plotting\n",
    "\n",
    "1. Add together every third number in the list [155,2,54,34,5,16,7,38,26,10] and print the result."
   ]
  },
  {
   "cell_type": "code",
   "execution_count": 5,
   "metadata": {},
   "outputs": [
    {
     "name": "stdout",
     "output_type": "stream",
     "text": [
      "206\n"
     ]
    }
   ],
   "source": [
    "# Your code here:\n",
    "\n",
    "lst = [155,2,54,34,5,16,7,38,26,10]\n",
    "\n",
    "summation = 0\n",
    "for n,x in enumerate(lst):\n",
    "    if n % 3 == 0:\n",
    "        summation += x\n",
    "        \n",
    "print(summation)"
   ]
  },
  {
   "cell_type": "markdown",
   "metadata": {},
   "source": [
    "2. Plot the sine and cosine functions on separate sides of the y-axis."
   ]
  },
  {
   "cell_type": "code",
   "execution_count": 11,
   "metadata": {},
   "outputs": [
    {
     "data": {
      "text/plain": [
       "[<matplotlib.lines.Line2D at 0x112d4c898>]"
      ]
     },
     "execution_count": 11,
     "metadata": {},
     "output_type": "execute_result"
    },
    {
     "data": {
      "image/png": "[encoded data removed]",
      "text/plain": [
       "<Figure size 432x288 with 1 Axes>"
      ]
     },
     "metadata": {
      "needs_background": "light"
     },
     "output_type": "display_data"
    }
   ],
   "source": [
    "# Your code here:\n",
    "\n",
    "x = np.linspace(-2*np.pi,2*np.pi)\n",
    "sine = np.sin(x)\n",
    "cosine = np.cos(x)\n",
    "\n",
    "plt.plot(x,sine)\n",
    "plt.plot(x,cosine)"
   ]
  },
  {
   "cell_type": "markdown",
   "metadata": {},
   "source": [
    "3. The rules for Pin-Pon are as follows:\n",
    "\n",
    "    - Start counting numbers, starting from 1. \n",
    "    - Whenever the next number's a multiple of 3 (3, 6, 9,…), replace the actual number with, \"Pin.\" \n",
    "    - Whenever the next number's a multiple of 5, replace it with the word, \"Pon.\"\n",
    "    - Whenever the number's a multiple of both 3 and 5, say, \"Pin Pon.\"\n",
    "    - Keep going until someone messes up.\n",
    "\n",
    "Write a program that prints the results of the game for 1 through 100."
   ]
  },
  {
   "cell_type": "code",
   "execution_count": null,
   "metadata": {},
   "outputs": [],
   "source": [
    "# Your code here:\n",
    "\n",
    "for n in range(1,101):\n",
    "    if (n % 3 == 0) and (n % 5 == 0):\n",
    "        print(\"Pin Pon\")\n",
    "    elif n % 5 == 0:\n",
    "        print(\"Pin\")\n",
    "    elif n % 3 == 0:\n",
    "        print(\"Pon\")\n",
    "    else:\n",
    "        print(n)"
   ]
  },
  {
   "cell_type": "markdown",
   "metadata": {},
   "source": [
    "***\n",
    "## Putting it all together\n",
    "\n",
    "These are meant to use all of your new skills at once. That being said, you may have notice that there's no \"Functions\" section above --- once you've completed each of the tasks below, please turn them into functions, comment them well, and add them to a Python script which will serve as a library for the future. \n",
    "\n",
    "1. (From Lab 1): While DMS (degrees, minutes, seconds) and HMS (hours, minutes, seconds) formats for celestial coordinates have their place (e.g. in every database ever), having them in decimal degrees is often more convenient for calculations. Write two scripts: one that allows the user to enter in a DMS coordinate and prints it in decimal degrees, and another for HMS coordinates."
   ]
  },
  {
   "cell_type": "code",
   "execution_count": 11,
   "metadata": {},
   "outputs": [],
   "source": [
    "# Your code here:\n",
    "\n",
    "# DMS\n",
    "dms = input(\"Enter D:M:S coordinates, separated by colons: \")\n",
    "dms = dms.split(\":\")\n",
    "degs, mins, secs = dms\n",
    "decdeg = float(degs) + float(mins)/60.0 + float(secs)/3600.0\n",
    "\n",
    "print(\"Decimal degrees:\", decdeg)\n",
    "\n",
    "# HMS\n",
    "hms = input(\"Enter H:M:S coordinates, separated by colons: \")\n",
    "hms = hms.split(\":\")\n",
    "hrs, mins, secs = hms\n",
    "decdeg = (float(hrs) + float(mins)/60.0 + float(secs)/3600.0) * 15\n",
    "\n",
    "print(\"Decimal degrees:\", decdeg)"
   ]
  },
  {
   "cell_type": "markdown",
   "metadata": {},
   "source": [
    "2. In my research on X-ray binaries, I utilize the Novikov-Thorne thin accretion disk approximation for black holes, which relates the temperature of the accertion disk to the mass of the accretor. Typical disk temperatures range between 0.5 and 1.0 keV. Using this relationship, calculate the mass of black holes (a) within this range, (b) in the \"interesting\" regime of 1.0 to 5.0 keV, and (c) in the \"crazy\" range of >5.0 keV. Plot your results, making sure the three regimes are clearly labeled in your plot. (P.S. -- X-ray astronomers often talk about temperatures in terms of energy rather than Kelvin, so keep that in mind with this equation.)\n",
    "\n",
    "$$T_{eff} \\text{ [keV]} \\sim \\Bigg(\\frac{10M_\\odot}{M}\\Bigg)^{1/4} \\text{ keV}$$"
   ]
  },
  {
   "cell_type": "code",
   "execution_count": 20,
   "metadata": {},
   "outputs": [
    {
     "data": {
      "image/png": "[encoded data removed]",
      "text/plain": [
       "<Figure size 432x288 with 1 Axes>"
      ]
     },
     "metadata": {
      "needs_background": "light"
     },
     "output_type": "display_data"
    }
   ],
   "source": [
    "# Your code here:\n",
    "\n",
    "temps_normal = np.linspace(0.5,1.0,100)\n",
    "temps_interesting = np.linspace(1.0,5.0,100)\n",
    "temps_crazy = np.linspace(5.0,6.0,100)\n",
    "\n",
    "'''\n",
    "Input: temp -- keV\n",
    "Output: mass -- solar masses\n",
    "'''\n",
    "def mass(temp):\n",
    "    return (10.0/temp**4)**(-1.0)\n",
    "\n",
    "mass_normal = mass(temps_normal)\n",
    "mass_interesting = mass(temps_interesting)\n",
    "mass_crazy = mass(temps_crazy)\n",
    "\n",
    "plt.plot(temps_normal,mass_normal,label=\"Normal\")\n",
    "plt.plot(temps_interesting,mass_interesting,label=\"Interesting\")\n",
    "plt.plot(temps_crazy,mass_crazy,label=\"Crazy\")\n",
    "plt.xlabel(\"Disk temperature [keV]\")\n",
    "plt.ylabel(r\"Mass of black hole $M_\\odot$\")\n",
    "plt.title(\"Novikov-Thorne Thin Accretion Disk Relationship\")\n",
    "plt.legend()\n",
    "plt.show()\n",
    "plt.close()"
   ]
  },
  {
   "cell_type": "code",
   "execution_count": null,
   "metadata": {},
   "outputs": [],
   "source": []
  }
 ],
 "metadata": {
  "kernelspec": {
   "display_name": "Python 3",
   "language": "python",
   "name": "python3"
  },
  "language_info": {
   "codemirror_mode": {
    "name": "ipython",
    "version": 3
   },
   "file_extension": ".py",
   "mimetype": "text/x-python",
   "name": "python",
   "nbconvert_exporter": "python",
   "pygments_lexer": "ipython3",
   "version": "3.7.3"
  }
 },
 "nbformat": 4,
 "nbformat_minor": 2
}
