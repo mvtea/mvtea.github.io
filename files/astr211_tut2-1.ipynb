{
 "cells": [
  {
   "cell_type": "markdown",
   "metadata": {},
   "source": [
    "# <ins>Tutorial 2.1: Conditionals & Loops</ins>\n",
    "*ASTR 211: Observational Astronomy, Spring 2021* \\\n",
    "*Written by Mason V. Tea*"
   ]
  },
  {
   "cell_type": "markdown",
   "metadata": {},
   "source": [
    "Conditionals and loops are fundamental structures in writing code that can automate things for you and adapt to various inputs. There aren't many scripts I've written since learning the basics that haven't had at least one loop or conditional statement."
   ]
  },
  {
   "cell_type": "code",
   "execution_count": 26,
   "metadata": {},
   "outputs": [],
   "source": [
    "# Importing libraries *at the beginning of the file*!\n",
    "import numpy as np"
   ]
  },
  {
   "cell_type": "markdown",
   "metadata": {},
   "source": [
    "# Conditionals\n",
    "\n",
    "_Conditional statements_ are structures in a program that perform different tasks depending on a set condition you give it. These conditions are just **booleans**, which we talked about in the last session. Recall that booleans are just True/False statements. \n",
    "\n",
    "The easiest way to see how these work is to watch them in action. For example, let's say I have a user input their favorite number:"
   ]
  },
  {
   "cell_type": "code",
   "execution_count": 1,
   "metadata": {},
   "outputs": [
    {
     "name": "stdout",
     "output_type": "stream",
     "text": [
      "Enter your favorite number: -6\n"
     ]
    }
   ],
   "source": [
    "num = int(input(\"Enter your favorite number: \"))"
   ]
  },
  {
   "cell_type": "markdown",
   "metadata": {},
   "source": [
    "If we wanted to tell whether or not the number that they've entered was positive or negative, we can use _if-else statements_ (i.e. a conditional statements):"
   ]
  },
  {
   "cell_type": "code",
   "execution_count": 4,
   "metadata": {},
   "outputs": [
    {
     "name": "stdout",
     "output_type": "stream",
     "text": [
      "Number is negative.\n"
     ]
    }
   ],
   "source": [
    "if (num > 0):\n",
    "    print(\"Number is positive.\")\n",
    "\n",
    "if (num < 0):\n",
    "    print(\"Number is negative.\")"
   ]
  },
  {
   "cell_type": "markdown",
   "metadata": {},
   "source": [
    "Now, there are a few things to notice here. \n",
    "\n",
    "1. **The fact that only one statement is printed.** When Python comes across a line that reads `if <condition>:`, it checks the condition first and then decides what to do next. If the condition is met, of course, it keeps going. If not, it skips the entirety of the code in the conditional statement and moves on to what comes after. So when the above code is run, the number can't be simultaneously greater-than and less-than zero, and just one print statement is executed.\n",
    "\n",
    "\n",
    "2. **The boolean in the conditional _is a boolean_.** If you were to try to write `if 12: <do something>`, you'd get an error. You could write `if (12 == 12): <do something>`, and that would be perfectly valid, but `12` alone doesn't have an inherent truth or falsity. \n",
    "\n",
    "\n",
    "3. **Indentation/whitespace.** When using a structure like an if-else statement, _whitespace_ (empty space in the code) is important. It tells the program where to look for it's next task. If there was no indentation, Python would assume that the next line of code was separate from the conditional statement, and run the code no matter whether the condition was met or not. Everything indented under the `if` statement is what we call _nested_ under it, and thus will only run if the boolean condition is met.\n",
    "\n",
    "However, the main thing to notice is that, if you run that code and enter a number, it works! Nice. You may be wondering where the \"else\" in \"if-else statement\" comes from, however. That's because the conventional way to write the code above is as follows:"
   ]
  },
  {
   "cell_type": "code",
   "execution_count": 3,
   "metadata": {},
   "outputs": [
    {
     "name": "stdout",
     "output_type": "stream",
     "text": [
      "Number is negative.\n"
     ]
    }
   ],
   "source": [
    "if (num > 0):\n",
    "    print(\"Number is positive.\")\n",
    "else:\n",
    "    print(\"Number is negative.\")"
   ]
  },
  {
   "cell_type": "markdown",
   "metadata": {},
   "source": [
    "It gives you the same result with a bit of a cleaner look, since you don't have to write the alternative condition in the case of two. It basically reads \"if `<condition>` do `<something>`; if literally anything else is the case, `<do this instead>`.\"\n",
    "\n",
    "We've missed one key point in how we decided to design this program, however. Sure, the number could be positive or negative, but what if the number they give is _zero_? We'll have to add an extra condition into the code, which we can achieve with an \"if-elif-else\" statement:"
   ]
  },
  {
   "cell_type": "code",
   "execution_count": 5,
   "metadata": {},
   "outputs": [
    {
     "name": "stdout",
     "output_type": "stream",
     "text": [
      "Number is negative.\n"
     ]
    }
   ],
   "source": [
    "if (num > 0):\n",
    "    print(\"Number is positive.\")\n",
    "elif (num < 0):\n",
    "    print(\"Number is negative.\")\n",
    "else:\n",
    "    print(\"Number is zero.\")"
   ]
  },
  {
   "cell_type": "markdown",
   "metadata": {},
   "source": [
    "The `elif` line just lets us define an additional condition to check. You can add as many of these as you want, for any condition that you don't necessarily want to fall under the \"literally-anything-else\" category.\n",
    "\n",
    "Let's think about what we might do if we want to check another condition depending on whether the first is met. For example, if I wanted the code to tell me not only the parity of the number, but also whether it was divisible by 3, I would need to add another condition. One way to do this is just to add more ifs to my statement and include a new boolean in the condition for each:"
   ]
  },
  {
   "cell_type": "code",
   "execution_count": 6,
   "metadata": {},
   "outputs": [
    {
     "name": "stdout",
     "output_type": "stream",
     "text": [
      "Number is negative and divisible by 3.\n"
     ]
    }
   ],
   "source": [
    "if (num > 0) and (num % 3 == 0):\n",
    "    print(\"Number is positive and divisible by 3.\")\n",
    "elif (num > 0) and (num % 3 != 0):\n",
    "    print(\"Number is positive and not divisible by 3.\")\n",
    "elif (num < 0) and (num % 3 == 0):\n",
    "    print(\"Number is negative and divisible by 3.\")\n",
    "elif (num < 0) and (num % 3 != 0):\n",
    "    print(\"Number is negative and not divisible by 3.\")\n",
    "else:\n",
    "    print(\"Number is zero.\")"
   ]
  },
  {
   "cell_type": "markdown",
   "metadata": {},
   "source": [
    "Alternatively, you could use _nested_ if-statements:"
   ]
  },
  {
   "cell_type": "code",
   "execution_count": 8,
   "metadata": {},
   "outputs": [
    {
     "name": "stdout",
     "output_type": "stream",
     "text": [
      "Number is positive...\n",
      "...and divisible by 3.\n"
     ]
    }
   ],
   "source": [
    "if (num > 0):\n",
    "    print(\"Number is positive...\")\n",
    "    \n",
    "    if (num % 3 == 0):\n",
    "        print(\"...and divisible by 3.\")\n",
    "    if (num % 3 != 0):\n",
    "        print(\"...and not divisible by 3.\")\n",
    "        \n",
    "elif (num < 0):\n",
    "    print(\"Number is positive...\")\n",
    "\n",
    "    if (num % 3 == 0):\n",
    "        print(\"...and divisible by 3.\")\n",
    "    if (num % 3 != 0):\n",
    "        print(\"...and not divisible by 3.\")\n",
    "\n",
    "else:\n",
    "    print(\"Number is zero.\")"
   ]
  },
  {
   "cell_type": "markdown",
   "metadata": {},
   "source": [
    "(**Note:** I stressed being careful with the whitespace in structures like if statements, but notice that I added some vertical spacing to my code. This doesn't affect how the code runs at all -- Python ignores blank lines. Sometimes, this is helpful to declutter your code and separate different operations.)\n",
    "\n",
    "Both of these methods produce essentially the same result. Just to put the if statement in context for when you might use it, let's look at the same scenario, this time using variables. (In astrophysics, you're more likely to be using these statements to perform calculations or modify lists based on certain conditions, rather than printing things.)"
   ]
  },
  {
   "cell_type": "code",
   "execution_count": 17,
   "metadata": {},
   "outputs": [
    {
     "name": "stdout",
     "output_type": "stream",
     "text": [
      "Parity: negative\n",
      "Divisible by 3: True\n"
     ]
    }
   ],
   "source": [
    "if (num > 0):\n",
    "    parity = 'positive'\n",
    "    \n",
    "    if (num % 3 == 0):\n",
    "        divby3 = True\n",
    "    if (num % 3 != 0):\n",
    "        divby3 = False\n",
    "        \n",
    "elif (num < 0):\n",
    "    parity = 'negative'\n",
    "    \n",
    "    if (num % 3 == 0):\n",
    "        divby3 = True\n",
    "    if (num % 3 != 0):\n",
    "        divby3 = False\n",
    "\n",
    "else: parity = 'zero'\n",
    "    \n",
    "print(\"Parity:\", parity)\n",
    "print(\"Divisible by 3:\", divby3)"
   ]
  },
  {
   "cell_type": "markdown",
   "metadata": {},
   "source": [
    "### Fancy formatting tricks\n",
    "\n",
    "There are a couple of tricks with these statements that you might like to use to clean up your code. Before you use these, _make sure you understand how the normal formatting works,_ as these will not always be convenient! You need the intuition to know when/when not to use these.\n",
    "\n",
    "1. **If statements with just one line nested in them can be written in one line**. With this in mind, we can turn the above piece of code into something with 4 fewer lines:"
   ]
  },
  {
   "cell_type": "code",
   "execution_count": 18,
   "metadata": {},
   "outputs": [
    {
     "name": "stdout",
     "output_type": "stream",
     "text": [
      "Parity: negative\n",
      "Divisible by 3: True\n"
     ]
    }
   ],
   "source": [
    "if (num > 0):\n",
    "    parity = 'positive'\n",
    "    \n",
    "    if (num % 3 == 0): divby3 = True\n",
    "    if (num % 3 != 0): divby3 = False\n",
    "        \n",
    "elif (num < 0):\n",
    "    parity = 'negative'\n",
    "    \n",
    "    if (num % 3 == 0): divby3 = True\n",
    "    if (num % 3 != 0): divby3 = False\n",
    "\n",
    "else: parity = 'zero'\n",
    "    \n",
    "print(\"Parity:\", parity)\n",
    "print(\"Divisible by 3:\", divby3)"
   ]
  },
  {
   "cell_type": "markdown",
   "metadata": {},
   "source": [
    "2. **If-else statements with just one nested line in both branches can be written in one line.** The formatting on this one is a bit different, with the syntax being `<action> if <condition> else <other action>`. Using this trick, where both actions are variable definitions, we can remove two more lines from our code:"
   ]
  },
  {
   "cell_type": "code",
   "execution_count": 20,
   "metadata": {},
   "outputs": [
    {
     "name": "stdout",
     "output_type": "stream",
     "text": [
      "Parity: negative\n",
      "Divisible by 3: True\n"
     ]
    }
   ],
   "source": [
    "if (num > 0):\n",
    "    parity = 'positive'\n",
    "    \n",
    "    divby3 = True if (num % 3 == 0) else False\n",
    "        \n",
    "elif (num < 0):\n",
    "    parity = 'negative'\n",
    "    \n",
    "    divby3 = True if (num % 3 == 0) else False\n",
    "\n",
    "else: parity = 'zero'\n",
    "    \n",
    "print(\"Parity:\", parity)\n",
    "print(\"Divisible by 3:\", divby3)"
   ]
  },
  {
   "cell_type": "markdown",
   "metadata": {},
   "source": [
    "One more thing: Beacuse sometimes a user may enter some input you don't want, or if you have a condition that ends the code when met, you can use the `quit()` function. I can't demonstrate in Jupyter because it'll throw an error, but if you use it in a normal Python script, the entire program will end if the `quit()` function appears."
   ]
  },
  {
   "cell_type": "markdown",
   "metadata": {},
   "source": [
    "# Loops\n",
    "\n",
    "Loops are just what they sound like, in that they repeat portions of code over and over again. You'll have to specify the condition that must be met in order for the loop to stop, otherwise your code will run forever (a _runtime error,_ if you'll recall from the last tutorial).\n",
    "\n",
    "There are two kinds of loops: _while loops_ and _for loops._ We'll discuss both in detail.\n",
    "\n",
    "## While loops\n",
    "\n",
    "In the case of a while loop, the code inside the loop repeats _while_ the condition remains true. The syntax looks like `while <condition>: <code>`. Python checks to make sure that this condition is still true each time it runs the code -- if it is, it runs the code again; if not, it exits the loop and moves on. \n",
    "\n",
    "For example, if I wanted (for some reason) to count to 10 with a while loop, I could do something like this:"
   ]
  },
  {
   "cell_type": "code",
   "execution_count": 21,
   "metadata": {},
   "outputs": [
    {
     "name": "stdout",
     "output_type": "stream",
     "text": [
      "10\n"
     ]
    }
   ],
   "source": [
    "count = 0\n",
    "\n",
    "while (count < 10):\n",
    "    count = count + 1\n",
    "    \n",
    "print(count)"
   ]
  },
  {
   "cell_type": "markdown",
   "metadata": {},
   "source": [
    "The main thing to notice here is that **the loop condition is not static.** In these kinds of loops, a _counter_ is usually employed, which is just a variable that will (eventually) change the value of the condition from True to False, allowing the code to exit the loop. In this case, our counter is `count`, and the loop condition depends on it. Each time the loop goes, it adds 1 to the value of `count`, until it reaches a value of 10 and makes the loop condition false.\n",
    "\n",
    "Something else you might notice is that a variable is being added to itself. This may look odd, but it's totally valid. We're taking the previous value (on the right), adding one, and _re-assigning the variable_ (on the right; see Tutorial 1.1) with this new value so it has the same name. There's a nice way to write this kind of incrementation, with the `+=` operator:"
   ]
  },
  {
   "cell_type": "code",
   "execution_count": 22,
   "metadata": {},
   "outputs": [
    {
     "name": "stdout",
     "output_type": "stream",
     "text": [
      "10\n"
     ]
    }
   ],
   "source": [
    "count = 0\n",
    "\n",
    "while (count < 10):\n",
    "    count += 1\n",
    "    \n",
    "print(count)"
   ]
  },
  {
   "cell_type": "markdown",
   "metadata": {},
   "source": [
    "This does the same thing as `count = count + 1`. If we were subtracting or multiplying or dividing, we might like to use `-=` or `*=` or `/=` as well.\n",
    "\n",
    "One thing to note about while loops is the fact that you can sometimes get stuck in them, as I've mentioned in other tutorials. If your loop condition is `1==1`, that's never going to stop being true, and your code will loop until the end of time if you let it. If your code is taking an unusually long time to run, this is often why -- in order to exit an infinite loop (or stop your code mid-run for any reason at all), hit `Ctrl+C` while in the terminal (or just hit the \"stop\" button in the toolbar if its a Jupyter cell).\n",
    "\n",
    "## For loops\n",
    "\n",
    "In my experience, _for loops_ are much more useful for the astrophysical applications I've been exposed to. In contrast to while loops, _for loops_ loop through a set of values rather than relying on a truth condition. Once it's seen all the values, the loop ends. This is where lists and arrays become important; the syntax looks like `for <item> in <list/array>: <code>`. \n",
    "\n",
    "Starting simply, let's just say we want to print every element of a list:"
   ]
  },
  {
   "cell_type": "code",
   "execution_count": 45,
   "metadata": {},
   "outputs": [
    {
     "name": "stdout",
     "output_type": "stream",
     "text": [
      "1\n",
      "2\n",
      "3\n",
      "4\n",
      "5\n",
      "6\n",
      "7\n",
      "8\n",
      "9\n",
      "10\n"
     ]
    }
   ],
   "source": [
    "lst = np.arange(1,11)\n",
    "\n",
    "for x in lst:\n",
    "    print(x)"
   ]
  },
  {
   "cell_type": "markdown",
   "metadata": {},
   "source": [
    "It's worth reiterating that `x` is a variable _local to the for loop,_ a temporary variable that holds the value of the list item that the loop is currently on. For example, if my list was `[1,2,3]`, `x` would be equal to 1 for the first round of the loop, 2 for the second, 3 for the third, and then the loop would end and `x` would cease to exist. Also, \"x\" is just the name I chose -- just like any variable, you're free to choose how you represent it.\n",
    "\n",
    "Now, let's try subtracting 1 from every element in our list. Our original list (`lst`) should read `[1,2,3,4,5,6,7,8,9,10]`. Just to make sure, I'll print it:"
   ]
  },
  {
   "cell_type": "code",
   "execution_count": 46,
   "metadata": {},
   "outputs": [
    {
     "name": "stdout",
     "output_type": "stream",
     "text": [
      "[ 1  2  3  4  5  6  7  8  9 10]\n"
     ]
    }
   ],
   "source": [
    "print(np.arange(1,11))"
   ]
  },
  {
   "cell_type": "markdown",
   "metadata": {},
   "source": [
    "Checks out. Now, I'll edit our code to subtract 1 from each value in the list rather than printing. Once the loop runs, it should read `[0,1,2,3,4,5,6,7,8,9]`:"
   ]
  },
  {
   "cell_type": "code",
   "execution_count": 47,
   "metadata": {},
   "outputs": [
    {
     "name": "stdout",
     "output_type": "stream",
     "text": [
      "[ 1  2  3  4  5  6  7  8  9 10]\n"
     ]
    }
   ],
   "source": [
    "for x in lst:\n",
    "    x -= 1\n",
    "    \n",
    "print(lst)"
   ]
  },
  {
   "cell_type": "markdown",
   "metadata": {},
   "source": [
    "Not quite. This demonstrates the fact that we're not changing the list elements when we use them this way in a for loop. We just have access to the values, which we can use for calculations, etc. In order to edit the list, you'd have to use some of the techniques described in Tutorial 1.2. However, there is an easy way to get the index of each value in the list as you move through the loop, using the `enumerate()` function:"
   ]
  },
  {
   "cell_type": "code",
   "execution_count": 48,
   "metadata": {},
   "outputs": [
    {
     "name": "stdout",
     "output_type": "stream",
     "text": [
      "0 1\n",
      "1 2\n",
      "2 3\n",
      "3 4\n",
      "4 5\n",
      "5 6\n",
      "6 7\n",
      "7 8\n",
      "8 9\n",
      "9 10\n"
     ]
    }
   ],
   "source": [
    "for n,x in enumerate(lst):\n",
    "    print(n,x)"
   ]
  },
  {
   "cell_type": "markdown",
   "metadata": {},
   "source": [
    "As you can see, `n` gives us the index of an element, while `x` gives us the value. (Again, \"n\" and \"x\" can be called whatever you want.) The enumerate function returns these two values _in this order_, so be sure not to mix them up!\n",
    "\n",
    "As mentioned above, this is useful for editing the list itself, using the index. Let's try again to subtract 1 from each element of `lst`, this time taking advantage of `enumerate()`:"
   ]
  },
  {
   "cell_type": "code",
   "execution_count": 49,
   "metadata": {},
   "outputs": [
    {
     "name": "stdout",
     "output_type": "stream",
     "text": [
      "[0 1 2 3 4 5 6 7 8 9]\n"
     ]
    }
   ],
   "source": [
    "for n,x in enumerate(lst):\n",
    "    lst[n] = x - 1\n",
    "\n",
    "print(lst)"
   ]
  },
  {
   "cell_type": "markdown",
   "metadata": {},
   "source": [
    "Success! \n",
    "\n",
    "One more thing to note is that you don't necessarily need to have a list set aside for something like this. For example, you can use the `range()` function to use a for loop over a range of numbers from 0 to whatever:"
   ]
  },
  {
   "cell_type": "code",
   "execution_count": 50,
   "metadata": {},
   "outputs": [
    {
     "name": "stdout",
     "output_type": "stream",
     "text": [
      "0\n",
      "1\n",
      "2\n",
      "3\n",
      "4\n",
      "5\n",
      "6\n",
      "7\n",
      "8\n",
      "9\n"
     ]
    }
   ],
   "source": [
    "for x in range(10):\n",
    "    print(x)"
   ]
  },
  {
   "cell_type": "markdown",
   "metadata": {},
   "source": [
    "Alternatively, you can just stick a list after `in`:"
   ]
  },
  {
   "cell_type": "code",
   "execution_count": 54,
   "metadata": {},
   "outputs": [
    {
     "name": "stdout",
     "output_type": "stream",
     "text": [
      "1\n",
      "2\n",
      "3\n",
      "4\n",
      "5\n",
      "1.0\n",
      "2.0\n",
      "3.0\n",
      "4.0\n",
      "5.0\n"
     ]
    }
   ],
   "source": [
    "for x in [1,2,3,4,5]:\n",
    "    print(x)\n",
    "    \n",
    "for x in np.linspace(1,5,5):\n",
    "    print(x)"
   ]
  },
  {
   "cell_type": "markdown",
   "metadata": {},
   "source": [
    "For multiple lists of the same size, you can access values in each with the same index using `zip()`. In other words, `zip()` takes the first element of each list as loop variables at one time, then the second element of each, so on and so forth. For example, say I have lists of wavelengths and their corresponding frequencies, and I'd like to print both at once:"
   ]
  },
  {
   "cell_type": "code",
   "execution_count": 56,
   "metadata": {},
   "outputs": [
    {
     "name": "stdout",
     "output_type": "stream",
     "text": [
      "300.0 10.0\n",
      "344.44444444444446 14.444444444444445\n",
      "388.8888888888889 18.88888888888889\n",
      "433.3333333333333 23.333333333333336\n",
      "477.77777777777777 27.77777777777778\n",
      "522.2222222222222 32.22222222222222\n",
      "566.6666666666666 36.66666666666667\n",
      "611.1111111111111 41.111111111111114\n",
      "655.5555555555555 45.55555555555556\n",
      "700.0 50.0\n"
     ]
    }
   ],
   "source": [
    "wav = np.linspace(300,700,10)\n",
    "freq = np.linspace(10,50,10)\n",
    "\n",
    "for x,y in zip(wav,freq):\n",
    "    print(x,y)"
   ]
  },
  {
   "cell_type": "markdown",
   "metadata": {},
   "source": [
    "You can also nest for loops in one another, just like we did for if statements. In fact, you can nest any if statement, while loop or for loop inside of any other. Here's a random demonstration:"
   ]
  },
  {
   "cell_type": "code",
   "execution_count": 71,
   "metadata": {},
   "outputs": [
    {
     "name": "stdout",
     "output_type": "stream",
     "text": [
      "6\n"
     ]
    }
   ],
   "source": [
    "summation = 0\n",
    "\n",
    "for x in range(3):\n",
    "    for y in range(3):\n",
    "        if (x == y):\n",
    "            summation += (x + y)\n",
    "        \n",
    "print(summation)"
   ]
  },
  {
   "cell_type": "markdown",
   "metadata": {},
   "source": [
    "### Keywords\n",
    "\n",
    "There are a few special commands that can be helpful in conditionals and loops.\n",
    "\n",
    "1. **`break`**: If a `break` line is run inside a loop, Python will exit the loop, skipping any remaining iterations and continue with the rest of the code. For example, if I were to sum the values of the list `[1,2,3,4,5]`, I should get 15. However, if I add the condition that the loop _breaks_ once the value 3 has been reached, it should be 6:"
   ]
  },
  {
   "cell_type": "code",
   "execution_count": 73,
   "metadata": {},
   "outputs": [
    {
     "name": "stdout",
     "output_type": "stream",
     "text": [
      "6\n"
     ]
    }
   ],
   "source": [
    "summation = 0\n",
    "\n",
    "for x in [1,2,3,4,5]:\n",
    "    summation += x\n",
    "    if x == 3:\n",
    "        break\n",
    "        \n",
    "print(summation)"
   ]
  },
  {
   "cell_type": "markdown",
   "metadata": {},
   "source": [
    "**Note:** This is a good time to mention that you should _always check the order of your steps in loops,_ especially in cases like this. If I had placed my if statement with the `break` before the step where `x` was added to the sum, the result would have been 3 instead of 6 because it left the loop early:"
   ]
  },
  {
   "cell_type": "code",
   "execution_count": 74,
   "metadata": {},
   "outputs": [
    {
     "name": "stdout",
     "output_type": "stream",
     "text": [
      "3\n"
     ]
    }
   ],
   "source": [
    "summation = 0\n",
    "\n",
    "for x in [1,2,3,4,5]:\n",
    "    if x == 3:\n",
    "        break\n",
    "    summation += x\n",
    "        \n",
    "print(summation)"
   ]
  },
  {
   "cell_type": "markdown",
   "metadata": {},
   "source": [
    "2. **`continue`**: If a `continue` line is reached inside a loop, the current step is skipped. Going back to the `[1,2,3,4,5]` example, if we sum this list again and include a `continue` conditional on the third element, the sum should be 1+2+4+5 = 12:"
   ]
  },
  {
   "cell_type": "code",
   "execution_count": 80,
   "metadata": {},
   "outputs": [
    {
     "name": "stdout",
     "output_type": "stream",
     "text": [
      "12\n"
     ]
    }
   ],
   "source": [
    "summation = 0\n",
    "\n",
    "for x in [1,2,3,4,5]:\n",
    "    if x == 3:\n",
    "        continue\n",
    "    summation += x\n",
    "        \n",
    "print(summation)"
   ]
  },
  {
   "cell_type": "markdown",
   "metadata": {},
   "source": [
    "2. **`pass`**: If a `pass` line is reached inside a loop or conditional, nothing happens. (I use this a lot as a placeholder for code I need to finish later.) If we run the same loop with a pass conditional, it should just give the normal sum of 15:"
   ]
  },
  {
   "cell_type": "code",
   "execution_count": 81,
   "metadata": {},
   "outputs": [
    {
     "name": "stdout",
     "output_type": "stream",
     "text": [
      "15\n"
     ]
    }
   ],
   "source": [
    "summation = 0\n",
    "\n",
    "for x in [1,2,3,4,5]:\n",
    "    if x == 3:\n",
    "        pass\n",
    "    summation += x\n",
    "        \n",
    "print(summation)"
   ]
  },
  {
   "cell_type": "markdown",
   "metadata": {},
   "source": [
    "### List comprehension\n",
    "\n",
    "_Don't use this until you understand loops (and lists) well!_\n",
    "\n",
    "There's really only one good trick that I use a lot off the top of my head, something called **list comprehension**. Essentially, you can generate a list from a little for loop inside some brackets. For example, say I have two lists with some overlap between them. If I wanted to make sure that the elements of each list are unique (i.e. one list does not have any of the same elements as the other), I could use list comprehension to filter one list:"
   ]
  },
  {
   "cell_type": "code",
   "execution_count": 83,
   "metadata": {},
   "outputs": [
    {
     "name": "stdout",
     "output_type": "stream",
     "text": [
      "[9, 0, 8, 8, 9]\n"
     ]
    }
   ],
   "source": [
    "lst1 = [1,2,3,4,5,6,7]\n",
    "lst2 = [1,1,4,3,5,6,9,0,8,8,9,1,2]\n",
    "\n",
    "lst2 = [x for x in lst2 if x not in lst1]\n",
    "\n",
    "print(lst2)"
   ]
  },
  {
   "cell_type": "markdown",
   "metadata": {},
   "source": [
    "**Note:** Something I probably should've mentioned in the lists/arrays tutorial is that `in` and `not in` are logical operators like `and`/`or` that can be used on lists. You can see the demonstration for `not in` in this list comprehension example; same goes for `in`.\n",
    "\n",
    "Omitting the if-statement part of the syntax, I can just create a list:"
   ]
  },
  {
   "cell_type": "code",
   "execution_count": 85,
   "metadata": {},
   "outputs": [
    {
     "name": "stdout",
     "output_type": "stream",
     "text": [
      "[0, 1, 2, 3]\n"
     ]
    }
   ],
   "source": [
    "lst3 = [x for x in range(4)]\n",
    "\n",
    "print(lst3)"
   ]
  },
  {
   "cell_type": "code",
   "execution_count": null,
   "metadata": {},
   "outputs": [],
   "source": []
  }
 ],
 "metadata": {
  "kernelspec": {
   "display_name": "Python 3",
   "language": "python",
   "name": "python3"
  },
  "language_info": {
   "codemirror_mode": {
    "name": "ipython",
    "version": 3
   },
   "file_extension": ".py",
   "mimetype": "text/x-python",
   "name": "python",
   "nbconvert_exporter": "python",
   "pygments_lexer": "ipython3",
   "version": "3.7.3"
  }
 },
 "nbformat": 4,
 "nbformat_minor": 2
}
