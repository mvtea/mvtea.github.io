{
 "cells": [
  {
   "cell_type": "markdown",
   "metadata": {},
   "source": [
    "# <ins>Lab #1: Python Basics</ins>\n",
    "\n",
    "These exercises are meant to give you some practice with the concepts from Tutorials 1.1 & 1.2. There's a prompt or two for each section, as well as a final question that brings it all together. Show your work! GLHF!"
   ]
  },
  {
   "cell_type": "markdown",
   "metadata": {},
   "source": [
    "***\n",
    "## Basic Arithmetic\n",
    "\n",
    "1. Use the Pythagorean theorem, $a^2 + b^2 = c^2$, to find the hypotenuse length of a right triangle with side lengths $a = 6.1$ and $b = 5.6$."
   ]
  },
  {
   "cell_type": "code",
   "execution_count": 2,
   "metadata": {},
   "outputs": [
    {
     "name": "stdout",
     "output_type": "stream",
     "text": [
      "8.280700453464066\n"
     ]
    }
   ],
   "source": [
    "# Your answer below:\n",
    "\n",
    "a, b = 6.1, 5.6\n",
    "c = (a**2 + b**2)**(1/2.0)\n",
    "\n",
    "print(c)"
   ]
  },
  {
   "cell_type": "markdown",
   "metadata": {},
   "source": [
    "2. Use the distance modulus, $m_v - M_v = 5log(d/10 \\text{ pc})$, to find the distance to a star with apparent magnitude $m_v = 0.5$ and absolute magnitude $M_v = -5.85$. "
   ]
  },
  {
   "cell_type": "code",
   "execution_count": 4,
   "metadata": {},
   "outputs": [
    {
     "name": "stdout",
     "output_type": "stream",
     "text": [
      "186.20871366628677 pc\n"
     ]
    }
   ],
   "source": [
    "# Your answer below:\n",
    "\n",
    "m, M = 0.5, -5.85\n",
    "d = 10**((m-M)/5)*10\n",
    "\n",
    "print(d, 'pc')"
   ]
  },
  {
   "cell_type": "markdown",
   "metadata": {},
   "source": [
    "***\n",
    "## Comments\n",
    "\n",
    "1. Write a single-line comment containing your Swings order."
   ]
  },
  {
   "cell_type": "code",
   "execution_count": 4,
   "metadata": {},
   "outputs": [],
   "source": [
    "# Your answer below:\n",
    "\n",
    "# Whatever the best-looking special is"
   ]
  },
  {
   "cell_type": "markdown",
   "metadata": {},
   "source": [
    "2. Write a multi-line comment describing your favorite astronomy fact."
   ]
  },
  {
   "cell_type": "code",
   "execution_count": 5,
   "metadata": {},
   "outputs": [],
   "source": [
    "# Your answer below: \n",
    "\n",
    "'''\n",
    "Tycho Brahe died of a ruptured bladder\n",
    "because he was too polite to get up\n",
    "to use the bathroom at a dinner party.\n",
    "He also got into swordfights all the time,\n",
    "one of which cost him part of his nose.\n",
    "'''"
   ]
  },
  {
   "cell_type": "markdown",
   "metadata": {},
   "source": [
    "***\n",
    "## Printing\n",
    "\n",
    "1. Print your favorite letter, number and symbol on the same line."
   ]
  },
  {
   "cell_type": "code",
   "execution_count": 5,
   "metadata": {},
   "outputs": [
    {
     "name": "stdout",
     "output_type": "stream",
     "text": [
      "W 5318008 ~\n"
     ]
    }
   ],
   "source": [
    "# Your answer here:\n",
    "\n",
    "print('W', 5318008, '~')"
   ]
  },
  {
   "cell_type": "markdown",
   "metadata": {},
   "source": [
    "***\n",
    "## Data types\n",
    "\n",
    "1. Use both string multiplication and concatenation to print 3 different animal noises."
   ]
  },
  {
   "cell_type": "code",
   "execution_count": 9,
   "metadata": {},
   "outputs": [
    {
     "name": "stdout",
     "output_type": "stream",
     "text": [
      "mooooo\n",
      "baaaaah\n",
      "neeeeeigh\n"
     ]
    }
   ],
   "source": [
    "# Your answer here:\n",
    "\n",
    "print('m' + 'o'*5)\n",
    "print('b' + 'a'*5 + 'h')\n",
    "print('n' + 'e'*5 + 'igh')"
   ]
  },
  {
   "cell_type": "markdown",
   "metadata": {},
   "source": [
    "2. Print a true statement using four different comparison operators."
   ]
  },
  {
   "cell_type": "code",
   "execution_count": 11,
   "metadata": {},
   "outputs": [
    {
     "name": "stdout",
     "output_type": "stream",
     "text": [
      "True\n"
     ]
    }
   ],
   "source": [
    "# Your answer here:\n",
    "\n",
    "print(((1 > 4) or (1 < 4)) and ((1 == 2) or (1 != 2)))"
   ]
  },
  {
   "cell_type": "markdown",
   "metadata": {},
   "source": [
    "***\n",
    "## Variables\n",
    "\n",
    "1. Use the quadratic equation, $x = \\frac{-b \\pm \\sqrt{b^2 - 4ac}}{2a}$, to find the roots of $5x^2 + 3x - 1$ by calculating the numerator and denominator separately. (**Tip:** When parintheses in a big equation get a little hard to read, breaking it up like this is a good way to make code easier to read.)"
   ]
  },
  {
   "cell_type": "code",
   "execution_count": 13,
   "metadata": {},
   "outputs": [
    {
     "name": "stdout",
     "output_type": "stream",
     "text": [
      "0.23851648071345039 -0.8385164807134504\n"
     ]
    }
   ],
   "source": [
    "# Your answer here:\n",
    "\n",
    "import math\n",
    "a,b,c = 5,3,-1\n",
    "\n",
    "num_plus = -b + math.sqrt(b**2 - 4 * a * c)\n",
    "num_minus = -b - math.sqrt(b**2 - 4 * a * c)\n",
    "denom = 2*a\n",
    "\n",
    "root_plus = num_plus/denom\n",
    "root_minus = num_minus/denom\n",
    "\n",
    "print(root_plus, root_minus)"
   ]
  },
  {
   "cell_type": "markdown",
   "metadata": {},
   "source": [
    "***\n",
    "## User input\n",
    "\n",
    "1. Prompt the user for their age and calculate the percent of their life they've completed assuming they live to 80 years old."
   ]
  },
  {
   "cell_type": "code",
   "execution_count": 16,
   "metadata": {},
   "outputs": [
    {
     "name": "stdout",
     "output_type": "stream",
     "text": [
      "How old are you in years? 21\n",
      "26.25 %\n"
     ]
    }
   ],
   "source": [
    "# Your answer here:\n",
    "\n",
    "age = input('How old are you in years? ')\n",
    "\n",
    "print((int(age)/80.0)*100.0, '%')"
   ]
  },
  {
   "cell_type": "markdown",
   "metadata": {},
   "source": [
    "***\n",
    "## Debugging\n",
    "\n",
    "1. Rewrite the code below, fixing the errors and formatting with best practices."
   ]
  },
  {
   "cell_type": "code",
   "execution_count": 17,
   "metadata": {},
   "outputs": [
    {
     "ename": "SyntaxError",
     "evalue": "invalid syntax (<ipython-input-17-38ed22fc8f07>, line 6)",
     "output_type": "error",
     "traceback": [
      "\u001b[0;36m  File \u001b[0;32m\"<ipython-input-17-38ed22fc8f07>\"\u001b[0;36m, line \u001b[0;32m6\u001b[0m\n\u001b[0;31m    Dist = sqrt((X2-X1)^2-(Y2+Y1)^2))\u001b[0m\n\u001b[0m                                    ^\u001b[0m\n\u001b[0;31mSyntaxError\u001b[0m\u001b[0;31m:\u001b[0m invalid syntax\n"
     ]
    }
   ],
   "source": [
    "X1 = 1\n",
    "Y1 = 2\n",
    "X2 = 2\n",
    "Y2 = 6\n",
    "\n",
    "Dist = sqrt((X2-X1)^2-(Y2+Y1)^2))\n",
    "print(Dist)"
   ]
  },
  {
   "cell_type": "code",
   "execution_count": 19,
   "metadata": {},
   "outputs": [
    {
     "name": "stdout",
     "output_type": "stream",
     "text": [
      "4.123105625617661\n"
     ]
    }
   ],
   "source": [
    "# Your answer below:\n",
    "\n",
    "import math\n",
    "x1, y1, x2, y2 = 1, 2, 2, 6\n",
    "\n",
    "dist = math.sqrt((x2-x1)**2 + (y2-y1)**2)\n",
    "print(dist)"
   ]
  },
  {
   "cell_type": "markdown",
   "metadata": {},
   "source": [
    "***\n",
    "\n",
    "## Indexing\n",
    "\n",
    "1. Print the 4th, 9th, and 15th letter and the letter at the 20th, 3rd, and 12th indices of the word \"pneumonoultramicroscopicsilicovolcanoconiosis\" by indexing."
   ]
  },
  {
   "cell_type": "code",
   "execution_count": 1,
   "metadata": {},
   "outputs": [
    {
     "name": "stdout",
     "output_type": "stream",
     "text": [
      "Fourth letter: u\n",
      "Ninth letter: l\n",
      "Fifteenth letter: c\n",
      "Third index: u\n",
      "Twelfth index: a\n",
      "Twentieth index: o\n"
     ]
    }
   ],
   "source": [
    "# Your answer below:\n",
    "\n",
    "string = \"pneumonoultramicroscopicsilicovolcanoconiosis\"\n",
    "\n",
    "fourth,ninth,fifteenth = string[3], string[9], string[15]\n",
    "index_20, index_3, index_12 = string[20], string[3], string[12]\n",
    "\n",
    "print(\"Fourth letter:\", fourth)\n",
    "print(\"Ninth letter:\", ninth)\n",
    "print(\"Fifteenth letter:\", fifteenth)\n",
    "\n",
    "print(\"Third index:\", index_3)\n",
    "print(\"Twelfth index:\", index_12)\n",
    "print(\"Twentieth index:\", index_20)"
   ]
  },
  {
   "cell_type": "markdown",
   "metadata": {},
   "source": [
    "2. Print the strings \"pneumono,\" \"ultra,\" \"volcano,\" and \"coniosis\" by slicing the word from part one."
   ]
  },
  {
   "cell_type": "code",
   "execution_count": 16,
   "metadata": {},
   "outputs": [
    {
     "name": "stdout",
     "output_type": "stream",
     "text": [
      "pneumono ultra microscopic volcanoconiosis\n"
     ]
    }
   ],
   "source": [
    "# Your answer below:\n",
    "\n",
    "string = \"pneumonoultramicroscopicsilicovolcanoconiosis\"\n",
    "\n",
    "pneumono = string[:8]\n",
    "ultra = string[8:13]\n",
    "microscopic = string[13:24]\n",
    "volcanoconiosis = string[-15:]\n",
    "\n",
    "print(pneumono, ultra, microscopic, volcanoconiosis)"
   ]
  },
  {
   "cell_type": "markdown",
   "metadata": {},
   "source": [
    "3. Add together every third number in the list [155,2,54,34,5,16,7,38,26,10] and print the result."
   ]
  },
  {
   "cell_type": "code",
   "execution_count": 22,
   "metadata": {},
   "outputs": [
    {
     "name": "stdout",
     "output_type": "stream",
     "text": [
      "69\n"
     ]
    }
   ],
   "source": [
    "# Your answer below\n",
    "lst = [155,2,54,34,5,6,7,38,9,10]\n",
    "\n",
    "print(lst[2]+lst[5]+lst[8])"
   ]
  },
  {
   "cell_type": "markdown",
   "metadata": {},
   "source": [
    "***\n",
    "\n",
    "## Manipulating strings and lists"
   ]
  },
  {
   "cell_type": "markdown",
   "metadata": {},
   "source": [
    "1. Fix the string \"peea7nut. bt-tt9r\" with string (or list) functions."
   ]
  },
  {
   "cell_type": "code",
   "execution_count": 41,
   "metadata": {},
   "outputs": [
    {
     "name": "stdout",
     "output_type": "stream",
     "text": [
      "peanut butter\n",
      "peanut butter\n"
     ]
    }
   ],
   "source": [
    "# Your code below:\n",
    "\n",
    "string = \"peea7nut. bt-tt9r\"\n",
    "\n",
    "string = string.replace('ea','a')\n",
    "string = string.replace('7','')\n",
    "string = string.replace('.','')\n",
    "string = string.replace('t-','u')\n",
    "string = string.replace('9','e')\n",
    "\n",
    "print(string)\n",
    "\n",
    "# Alternatively...\n",
    "\n",
    "string = \"peea7nut. bt-tt9r\"\n",
    "\n",
    "string = list(string)\n",
    "string.remove('e')\n",
    "string.remove('7')\n",
    "string.remove('.')\n",
    "string.remove('-')\n",
    "string[8] = 'u'\n",
    "string[-2] = 'e'\n",
    "string = ''.join(string)\n",
    "\n",
    "print(string)"
   ]
  },
  {
   "cell_type": "markdown",
   "metadata": {},
   "source": [
    "***\n",
    "\n",
    "## `numpy` arrays\n",
    "\n",
    "1. Use the Wien displacement law to calculate the temperatures of blackbodies with 20 peak wavelengths between 300nm and 700nm using arrays.\n",
    "\n",
    "\\begin{equation}\n",
    "    \\lambda_{peak}T = 0.29 \\text{ cm K}\n",
    "\\end{equation}"
   ]
  },
  {
   "cell_type": "code",
   "execution_count": 58,
   "metadata": {
    "scrolled": true
   },
   "outputs": [
    {
     "name": "stdout",
     "output_type": "stream",
     "text": [
      "[9666.66666667 9032.78688525 8476.92307692 7985.50724638 7547.94520548\n",
      " 7155.84415584 6802.4691358  6482.35294118 6191.01123596 5924.7311828\n",
      " 5680.41237113 5455.44554455 5247.61904762 5055.04587156 4876.10619469\n",
      " 4709.4017094  4553.71900826 4408.         4271.31782946 4142.85714286]\n"
     ]
    }
   ],
   "source": [
    "# Your code below:\n",
    "\n",
    "import numpy as np\n",
    "\n",
    "lambdas = np.linspace(300,700,20)\n",
    "lambdas_cm = lambdas*1E-7\n",
    "\n",
    "temps = 0.29 / lambdas_cm\n",
    "\n",
    "print(temps)"
   ]
  },
  {
   "cell_type": "markdown",
   "metadata": {},
   "source": [
    "## Challenge I: DMS/HMS Converter\n",
    "\n",
    "While DMS (degrees, minutes, seconds) and HMS (hours, minutes, seconds) formats for celestial coordinates have their place (e.g. in every database ever), having them in decimal degrees is often more convenient for calculations. Write two scripts: one that allows the user to enter in a DMS coordinate and prints it in decimal degrees, and another for HMS coordinates."
   ]
  },
  {
   "cell_type": "code",
   "execution_count": 74,
   "metadata": {},
   "outputs": [
    {
     "name": "stdout",
     "output_type": "stream",
     "text": [
      "Enter D:M:S coordinates, separated by colons: 54:54:54\n",
      "Decimal degrees: 54.915\n"
     ]
    }
   ],
   "source": [
    "# Your code below:\n",
    "\n",
    "# DMS\n",
    "\n",
    "dms = input(\"Enter D:M:S coordinates, separated by colons: \")\n",
    "dms = dms.split(\":\")\n",
    "degs, mins, secs = dms\n",
    "decdeg = float(degs) + float(mins)/60.0 + float(secs)/3600.0\n",
    "\n",
    "print(\"Decimal degrees:\", decdeg)"
   ]
  },
  {
   "cell_type": "code",
   "execution_count": 76,
   "metadata": {},
   "outputs": [
    {
     "name": "stdout",
     "output_type": "stream",
     "text": [
      "Enter H:M:S coordinates, separated by colons: 12:00:00\n",
      "Decimal degrees: 180.0\n"
     ]
    }
   ],
   "source": [
    "# HMS\n",
    "\n",
    "hms = input(\"Enter H:M:S coordinates, separated by colons: \")\n",
    "hms = hms.split(\":\")\n",
    "hrs, mins, secs = hms\n",
    "decdeg = (float(hrs) + float(mins)/60.0 + float(secs)/3600.0) * 15\n",
    "\n",
    "print(\"Decimal degrees:\", decdeg)"
   ]
  }
 ],
 "metadata": {
  "kernelspec": {
   "display_name": "Python 3",
   "language": "python",
   "name": "python3"
  },
  "language_info": {
   "codemirror_mode": {
    "name": "ipython",
    "version": 3
   },
   "file_extension": ".py",
   "mimetype": "text/x-python",
   "name": "python",
   "nbconvert_exporter": "python",
   "pygments_lexer": "ipython3",
   "version": "3.7.3"
  }
 },
 "nbformat": 4,
 "nbformat_minor": 2
}
